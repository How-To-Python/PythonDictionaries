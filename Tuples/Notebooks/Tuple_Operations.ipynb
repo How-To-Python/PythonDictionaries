{
 "cells": [
  {
   "cell_type": "markdown",
   "id": "2f8a90ed",
   "metadata": {},
   "source": [
    "# Tuple Operations\n",
    "\n",
    "Learn about tuple operations including concatenation, repetition, and comparisons.\n",
    "\n",
    "## Learning Objectives\n",
    "- Concatenate tuples using +\n",
    "- Repeat tuples using *\n",
    "- Compare tuples\n",
    "- Understand tuple operations efficiency"
   ]
  },
  {
   "cell_type": "code",
   "execution_count": null,
   "id": "5238f647",
   "metadata": {},
   "outputs": [],
   "source": [
    "# Sample tuples for operations\n",
    "tuple1 = (1, 2, 3)\n",
    "tuple2 = (4, 5, 6)\n",
    "tuple3 = (\"a\", \"b\")\n",
    "tuple4 = (\"c\", \"d\")\n",
    "\n",
    "print(\"tuple1:\", tuple1)\n",
    "print(\"tuple2:\", tuple2)\n",
    "print(\"tuple3:\", tuple3)\n",
    "print(\"tuple4:\", tuple4)"
   ]
  },
  {
   "cell_type": "code",
   "execution_count": null,
   "id": "734d3be7",
   "metadata": {},
   "outputs": [],
   "source": [
    "# 1. Concatenation with +\n",
    "print(\"=== Tuple Concatenation ===\")\n",
    "combined = tuple1 + tuple2\n",
    "mixed_combined = tuple1 + tuple3\n",
    "\n",
    "print(\"tuple1 + tuple2:\", combined)\n",
    "print(\"tuple1 + tuple3:\", mixed_combined)\n",
    "print(\"tuple3 + tuple4:\", tuple3 + tuple4)\n",
    "\n",
    "# Multiple concatenation\n",
    "all_together = tuple1 + tuple2 + tuple3 + tuple4\n",
    "print(\"All concatenated:\", all_together)"
   ]
  },
  {
   "cell_type": "code",
   "execution_count": null,
   "id": "92c34610",
   "metadata": {},
   "outputs": [],
   "source": [
    "# 2. Repetition with *\n",
    "print(\"=== Tuple Repetition ===\")\n",
    "repeated = tuple1 * 3\n",
    "pattern = (\"x\", \"o\") * 4\n",
    "single_repeated = (42,) * 5\n",
    "\n",
    "print(\"tuple1 * 3:\", repeated)\n",
    "print(\"('x', 'o') * 4:\", pattern)\n",
    "print(\"(42,) * 5:\", single_repeated)\n",
    "\n",
    "# Zero repetition\n",
    "empty_result = tuple1 * 0\n",
    "print(\"tuple1 * 0:\", empty_result)"
   ]
  },
  {
   "cell_type": "code",
   "execution_count": null,
   "id": "72df2bfe",
   "metadata": {},
   "outputs": [],
   "source": [
    "# 3. Tuple Comparisons\n",
    "print(\"=== Tuple Comparisons ===\")\n",
    "a = (1, 2, 3)\n",
    "b = (1, 2, 3)\n",
    "c = (1, 2, 4)\n",
    "d = (1, 2)\n",
    "\n",
    "print(\"a:\", a)\n",
    "print(\"b:\", b)\n",
    "print(\"c:\", c)\n",
    "print(\"d:\", d)\n",
    "print()\n",
    "\n",
    "# Equality\n",
    "print(\"a == b:\", a == b)\n",
    "print(\"a == c:\", a == c)\n",
    "print(\"a != c:\", a != c)\n",
    "\n",
    "# Lexicographic comparison\n",
    "print(\"a < c:\", a < c)      # First differing element: 3 < 4\n",
    "print(\"a > d:\", a > d)      # Length doesn't matter if prefix matches\n",
    "print(\"d < a:\", d < a)      # Shorter tuple is \"less\" if it's a prefix"
   ]
  },
  {
   "cell_type": "code",
   "execution_count": null,
   "id": "e422567e",
   "metadata": {},
   "outputs": [],
   "source": [
    "# 4. More Comparison Examples\n",
    "print(\"=== Advanced Comparisons ===\")\n",
    "strings1 = (\"apple\", \"banana\")\n",
    "strings2 = (\"apple\", \"cherry\")\n",
    "strings3 = (\"apple\",)\n",
    "\n",
    "print(\"strings1:\", strings1)\n",
    "print(\"strings2:\", strings2)\n",
    "print(\"strings3:\", strings3)\n",
    "print()\n",
    "\n",
    "print(\"strings1 < strings2:\", strings1 < strings2)  # \"banana\" < \"cherry\"\n",
    "print(\"strings3 < strings1:\", strings3 < strings1)  # Shorter tuple comparison\n",
    "print(\"strings1 > strings3:\", strings1 > strings3)\n",
    "\n",
    "# Mixed type comparison (be careful!)\n",
    "try:\n",
    "    result = (1, 2) < (\"a\", \"b\")\n",
    "    print(\"(1, 2) < ('a', 'b'):\", result)\n",
    "except TypeError as e:\n",
    "    print(\"Comparison error:\", e)"
   ]
  },
  {
   "cell_type": "code",
   "execution_count": null,
   "id": "07a083d1",
   "metadata": {},
   "outputs": [],
   "source": [
    "# 5. Membership and Length Operations\n",
    "print(\"=== Membership and Length ===\")\n",
    "sample = (1, 2, 3, 2, 4, 2, 5)\n",
    "print(\"Sample tuple:\", sample)\n",
    "print()\n",
    "\n",
    "# Membership testing\n",
    "print(\"2 in sample:\", 2 in sample)\n",
    "print(\"6 in sample:\", 6 in sample)\n",
    "print(\"10 not in sample:\", 10 not in sample)\n",
    "\n",
    "# Length\n",
    "print(\"len(sample):\", len(sample))\n",
    "print(\"len(()):\", len(()))\n",
    "\n",
    "# Min, max, sum (for numeric tuples)\n",
    "numbers = (10, 5, 8, 15, 3, 12)\n",
    "print(\"numbers:\", numbers)\n",
    "print(\"min(numbers):\", min(numbers))\n",
    "print(\"max(numbers):\", max(numbers))\n",
    "print(\"sum(numbers):\", sum(numbers))"
   ]
  },
  {
   "cell_type": "code",
   "execution_count": null,
   "id": "263eda97",
   "metadata": {},
   "outputs": [],
   "source": [
    "# 6. Practical Examples\n",
    "print(\"=== Practical Examples ===\")\n",
    "\n",
    "# Combining data from different sources\n",
    "first_names = (\"John\", \"Jane\", \"Bob\")\n",
    "last_names = (\"Doe\", \"Smith\", \"Johnson\")\n",
    "ages = (30, 25, 35)\n",
    "\n",
    "# Create full records (this creates a nested structure)\n",
    "records = tuple(zip(first_names, last_names, ages))\n",
    "print(\"Combined records:\", records)\n",
    "\n",
    "# Building a larger dataset\n",
    "data_part1 = (1, 2, 3)\n",
    "data_part2 = (4, 5, 6)\n",
    "data_part3 = (7, 8, 9)\n",
    "\n",
    "complete_data = data_part1 + data_part2 + data_part3\n",
    "print(\"Complete dataset:\", complete_data)\n",
    "\n",
    "# Creating patterns\n",
    "border = (\"*\",) * 20\n",
    "print(\"Border pattern:\", border)"
   ]
  },
  {
   "cell_type": "markdown",
   "id": "76eae615",
   "metadata": {},
   "source": [
    "## Practice Exercise\n",
    "Try combining different tuples and exploring comparison operations!"
   ]
  }
 ],
 "metadata": {
  "language_info": {
   "name": "python"
  }
 },
 "nbformat": 4,
 "nbformat_minor": 5
}
