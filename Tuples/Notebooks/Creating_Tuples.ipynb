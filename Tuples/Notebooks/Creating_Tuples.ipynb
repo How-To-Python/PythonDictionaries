{
 "cells": [
  {
   "cell_type": "markdown",
   "id": "0f724887",
   "metadata": {},
   "source": [
    "# Creating Tuples\n",
    "\n",
    "Learn different ways to create and initialize Python tuples.\n",
    "\n",
    "## Learning Objectives\n",
    "- Create empty tuples\n",
    "- Initialize tuples with data\n",
    "- Use tuple() constructor\n",
    "- Create tuples from other data structures\n",
    "- Understand single-element tuple syntax"
   ]
  },
  {
   "cell_type": "code",
   "execution_count": null,
   "id": "1cd65aef",
   "metadata": {},
   "outputs": [],
   "source": [
    "# 1. Empty Tuples\n",
    "empty_tuple = ()\n",
    "also_empty = tuple()\n",
    "\n",
    "print(\"Empty with ():\", empty_tuple)\n",
    "print(\"Empty with tuple():\", also_empty)\n",
    "print(\"Both are equal:\", empty_tuple == also_empty)\n",
    "print(\"Type:\", type(empty_tuple))"
   ]
  },
  {
   "cell_type": "code",
   "execution_count": null,
   "id": "1cb51597",
   "metadata": {},
   "outputs": [],
   "source": [
    "# 2. Tuple with Initial Values\n",
    "coordinates = (10, 20)\n",
    "colors = (\"red\", \"green\", \"blue\")\n",
    "mixed = (1, \"hello\", 3.14, True)\n",
    "\n",
    "print(\"Coordinates:\", coordinates)\n",
    "print(\"Colors:\", colors)\n",
    "print(\"Mixed types:\", mixed)"
   ]
  },
  {
   "cell_type": "code",
   "execution_count": null,
   "id": "a154f87d",
   "metadata": {},
   "outputs": [],
   "source": [
    "# 3. Single Element Tuples (Important: comma is required!)\n",
    "single = (42,)  # Note the comma!\n",
    "not_tuple = (42)  # This is just a number in parentheses\n",
    "\n",
    "print(\"single = (42,):\", single, \"- Type:\", type(single))\n",
    "print(\"not_tuple = (42):\", not_tuple, \"- Type:\", type(not_tuple))"
   ]
  },
  {
   "cell_type": "markdown",
   "id": "bfe1d7f5",
   "metadata": {},
   "source": [
    "## Creating Tuples Without Parentheses"
   ]
  },
  {
   "cell_type": "code",
   "execution_count": null,
   "id": "78644992",
   "metadata": {},
   "outputs": [],
   "source": [
    "# 4. Tuples without Parentheses (Tuple Packing)\n",
    "point = 3, 4, 5\n",
    "name_age = \"Alice\", 25\n",
    "\n",
    "print(\"point = 3, 4, 5:\", point)\n",
    "print(\"name_age = 'Alice', 25:\", name_age)\n",
    "print(\"Types:\", type(point), type(name_age))"
   ]
  },
  {
   "cell_type": "code",
   "execution_count": null,
   "id": "e9f7c278",
   "metadata": {},
   "outputs": [],
   "source": [
    "# 5. Using tuple() Constructor\n",
    "from_list = tuple([1, 2, 3, 4])\n",
    "from_string = tuple(\"hello\")\n",
    "from_range = tuple(range(5))\n",
    "from_set = tuple({1, 2, 3})\n",
    "\n",
    "print(\"From list:\", from_list)\n",
    "print(\"From string:\", from_string)\n",
    "print(\"From range:\", from_range)\n",
    "print(\"From set:\", from_set)"
   ]
  },
  {
   "cell_type": "markdown",
   "id": "484a486d",
   "metadata": {},
   "source": [
    "## Practice Exercise\n",
    "Try creating your own tuples with different data types and methods!"
   ]
  }
 ],
 "metadata": {
  "language_info": {
   "name": "python"
  }
 },
 "nbformat": 4,
 "nbformat_minor": 5
}
