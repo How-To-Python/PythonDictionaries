{
 "cells": [
  {
   "cell_type": "markdown",
   "id": "988f182b",
   "metadata": {},
   "source": [
    "# Accessing Tuple Items\n",
    "\n",
    "Learn how to access tuple elements using indexing and slicing.\n",
    "\n",
    "## Learning Objectives\n",
    "- Access elements by positive indexing\n",
    "- Access elements by negative indexing\n",
    "- Use slicing to get tuple portions\n",
    "- Understand tuple immutability"
   ]
  },
  {
   "cell_type": "code",
   "execution_count": null,
   "id": "f4d34d2c",
   "metadata": {},
   "outputs": [],
   "source": [
    "# Sample tuple for demonstrations\n",
    "fruits = (\"apple\", \"banana\", \"cherry\", \"date\", \"elderberry\")\n",
    "numbers = (10, 20, 30, 40, 50, 60)\n",
    "\n",
    "print(\"Fruits tuple:\", fruits)\n",
    "print(\"Numbers tuple:\", numbers)\n",
    "print(\"Length of fruits:\", len(fruits))"
   ]
  },
  {
   "cell_type": "code",
   "execution_count": null,
   "id": "5877aae3",
   "metadata": {},
   "outputs": [],
   "source": [
    "# 1. Positive Indexing (starts from 0)\n",
    "print(\"=== Positive Indexing ===\")\n",
    "print(\"fruits[0] (first):\", fruits[0])\n",
    "print(\"fruits[2] (third):\", fruits[2])\n",
    "print(\"fruits[4] (last):\", fruits[4])\n",
    "\n",
    "# Using loop to show all indices\n",
    "print(\"\\nAll elements with indices:\")\n",
    "for i in range(len(fruits)):\n",
    "    print(f\"  Index {i}: {fruits[i]}\")"
   ]
  },
  {
   "cell_type": "code",
   "execution_count": null,
   "id": "65739cd0",
   "metadata": {},
   "outputs": [],
   "source": [
    "# 2. Negative Indexing (starts from -1)\n",
    "print(\"=== Negative Indexing ===\")\n",
    "print(\"fruits[-1] (last):\", fruits[-1])\n",
    "print(\"fruits[-2] (second to last):\", fruits[-2])\n",
    "print(\"fruits[-5] (first):\", fruits[-5])\n",
    "\n",
    "# All negative indices\n",
    "print(\"\\nAll elements with negative indices:\")\n",
    "for i in range(-1, -len(fruits)-1, -1):\n",
    "    print(f\"  Index {i}: {fruits[i]}\")"
   ]
  },
  {
   "cell_type": "markdown",
   "id": "6b5756d8",
   "metadata": {},
   "source": [
    "## Tuple Slicing"
   ]
  },
  {
   "cell_type": "code",
   "execution_count": null,
   "id": "c6e8d37d",
   "metadata": {},
   "outputs": [],
   "source": [
    "# 3. Slicing - [start:end:step]\n",
    "print(\"=== Slicing Examples ===\")\n",
    "print(\"Original:\", fruits)\n",
    "print(\"fruits[1:4]:\", fruits[1:4])      # Elements from index 1 to 3\n",
    "print(\"fruits[:3]:\", fruits[:3])        # First 3 elements\n",
    "print(\"fruits[2:]:\", fruits[2:])        # From index 2 to end\n",
    "print(\"fruits[::2]:\", fruits[::2])      # Every second element\n",
    "print(\"fruits[::-1]:\", fruits[::-1])    # Reverse the tuple"
   ]
  },
  {
   "cell_type": "code",
   "execution_count": null,
   "id": "93138df3",
   "metadata": {},
   "outputs": [],
   "source": [
    "# 4. Advanced Slicing\n",
    "print(\"=== Advanced Slicing ===\")\n",
    "print(\"fruits[1::2]:\", fruits[1::2])    # From index 1, every 2nd element\n",
    "print(\"fruits[-3:]:\", fruits[-3:])      # Last 3 elements\n",
    "print(\"fruits[:-2]:\", fruits[:-2])      # All except last 2\n",
    "print(\"fruits[1:4:2]:\", fruits[1:4:2])  # From 1 to 3, step 2"
   ]
  },
  {
   "cell_type": "code",
   "execution_count": null,
   "id": "bd246155",
   "metadata": {},
   "outputs": [],
   "source": [
    "# 5. Checking Membership\n",
    "print(\"=== Membership Testing ===\")\n",
    "print(\"'apple' in fruits:\", 'apple' in fruits)\n",
    "print(\"'grape' in fruits:\", 'grape' in fruits)\n",
    "print(\"'cherry' not in fruits:\", 'cherry' not in fruits)\n",
    "\n",
    "# Finding elements\n",
    "if 'banana' in fruits:\n",
    "    print(\"Found banana at index:\", fruits.index('banana'))"
   ]
  },
  {
   "cell_type": "code",
   "execution_count": null,
   "id": "d8d56008",
   "metadata": {},
   "outputs": [],
   "source": [
    "# 6. Immutability Demonstration\n",
    "print(\"=== Tuple Immutability ===\")\n",
    "sample = (1, 2, 3, 4, 5)\n",
    "print(\"Original tuple:\", sample)\n",
    "\n",
    "# This will cause an error - tuples are immutable!\n",
    "try:\n",
    "    sample[0] = 99\n",
    "    print(\"Modified tuple:\", sample)\n",
    "except TypeError as e:\n",
    "    print(\"Error trying to modify:\", e)\n",
    "    print(\"Tuples are immutable - cannot change elements after creation\")"
   ]
  },
  {
   "cell_type": "markdown",
   "id": "b660820d",
   "metadata": {},
   "source": [
    "## Practice Exercise\n",
    "Try accessing different elements and creating slices with your own tuples!"
   ]
  }
 ],
 "metadata": {
  "language_info": {
   "name": "python"
  }
 },
 "nbformat": 4,
 "nbformat_minor": 5
}
