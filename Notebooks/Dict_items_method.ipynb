{
 "cells": [
  {
   "cell_type": "markdown",
   "id": "80c47dfe",
   "metadata": {},
   "source": [
    "# `.items()` method\\\n",
    "**Use `.items()` when you need both keys and values simultaneously**\n"
   ]
  },
  {
   "cell_type": "code",
   "execution_count": 2,
   "id": "294d23d2",
   "metadata": {},
   "outputs": [
    {
     "name": "stdout",
     "output_type": "stream",
     "text": [
      "Sample dictionary: {'James': 95, 'Bill': 87, 'Zara': 92, 'Yolanda': 88, 'Eric': 91}\n",
      "Number of students: 5\n",
      "dict_items([('James', 95), ('Bill', 87), ('Zara', 92), ('Yolanda', 88), ('Eric', 91)])\n",
      "Items: [('James', 95), ('Bill', 87), ('Zara', 92), ('Yolanda', 88), ('Eric', 91)]\n"
     ]
    }
   ],
   "source": [
    "# Sample dictionary for demonstrations\n",
    "student_grades = {\n",
    "    \"James\": 95,\n",
    "    \"Bill\": 87,\n",
    "    \"Zara\": 92,\n",
    "    \"Yolanda\": 88,\n",
    "    \"Eric\": 91\n",
    "}\n",
    "\n",
    "print(f\"Sample dictionary: {student_grades}\")\n",
    "print(f\"Number of students: {len(student_grades)}\")\n",
    "\n",
    "# Getting all items: `.items()`\n",
    "print(student_grades.items())# returns a view object, which is iterable: dict_items([()])\n",
    "print(\"Items:\", list(student_grades.items()))# Converting to a list of tuples"
   ]
  },
  {
   "cell_type": "markdown",
   "id": "b58051f4",
   "metadata": {},
   "source": [
    "### 1. Iterating over items"
   ]
  },
  {
   "cell_type": "code",
   "execution_count": 3,
   "id": "20eeba50",
   "metadata": {},
   "outputs": [
    {
     "name": "stdout",
     "output_type": "stream",
     "text": [
      "Iterating over items:\n",
      "James: 95\n",
      "Bill: 87\n",
      "Zara: 92\n",
      "Yolanda: 88\n",
      "Eric: 91\n",
      "Iterating over items:\n",
      "James: 95\n",
      "Bill: 87\n",
      "Zara: 92\n",
      "Yolanda: 88\n",
      "Eric: 91\n"
     ]
    }
   ],
   "source": [
    "# 1. Iterating over items: Both for loops below do the same thing\n",
    "print(\"Iterating over items:\")\n",
    "for key, value in student_grades.items():# uses generic variable names\n",
    "    print(f\"{key}: {value}\")\n",
    "\n",
    "print(\"Iterating over items:\")\n",
    "for student, grade in student_grades.items():# uses explicit variable names\n",
    "    print(f\"{student}: {grade}\")"
   ]
  },
  {
   "cell_type": "markdown",
   "id": "2ef90dd6",
   "metadata": {},
   "source": [
    "### 2. Converting items to a list of tuples"
   ]
  },
  {
   "cell_type": "code",
   "execution_count": 4,
   "id": "a46acb93",
   "metadata": {},
   "outputs": [
    {
     "name": "stdout",
     "output_type": "stream",
     "text": [
      "List of items (tuples): [('James', 95), ('Bill', 87), ('Zara', 92), ('Yolanda', 88), ('Eric', 91)]\n"
     ]
    }
   ],
   "source": [
    "# 2. Converting items to a list of tuples\n",
    "items_list = list(student_grades.items())\n",
    "print(\"List of items (tuples):\", items_list)"
   ]
  },
  {
   "cell_type": "markdown",
   "id": "cc03b40c",
   "metadata": {},
   "source": [
    "### 3. Converting items to a dictionary"
   ]
  },
  {
   "cell_type": "code",
   "execution_count": 5,
   "id": "9b7106c5",
   "metadata": {},
   "outputs": [
    {
     "name": "stdout",
     "output_type": "stream",
     "text": [
      "Dictionary from items: {'James': 95, 'Bill': 87, 'Zara': 92, 'Yolanda': 88, 'Eric': 91}\n"
     ]
    }
   ],
   "source": [
    "# 3. Converting items to a dictionary\n",
    "items_dict = dict(items_list)\n",
    "print(\"Dictionary from items:\", items_dict)"
   ]
  },
  {
   "cell_type": "markdown",
   "id": "58e06294",
   "metadata": {},
   "source": [
    "### 4. Checking membership of a key-value pair"
   ]
  },
  {
   "cell_type": "code",
   "execution_count": 6,
   "id": "f3203340",
   "metadata": {},
   "outputs": [
    {
     "name": "stdout",
     "output_type": "stream",
     "text": [
      "True\n",
      "False\n"
     ]
    }
   ],
   "source": [
    "# 4. Checking membership of a key-value pair\n",
    "print((\"James\", 95) in student_grades.items())  # True\n",
    "print((\"Bill\", 90) in student_grades.items())   # False"
   ]
  },
  {
   "cell_type": "markdown",
   "id": "c33c07fa",
   "metadata": {},
   "source": [
    "### 5. Using items in functions"
   ]
  },
  {
   "cell_type": "code",
   "execution_count": null,
   "id": "3a4370e0",
   "metadata": {},
   "outputs": [],
   "source": [
    "# 5. Using items in functions\n",
    "max_item = max(student_grades.items(), key=lambda item: item[1])\n",
    "print(\"Max item:\", max_item)\n",
    "min_item = min(student_grades.items(), key=lambda item: item[1])\n",
    "print(\"Min item:\", min_item)"
   ]
  },
  {
   "cell_type": "markdown",
   "id": "53bc6aeb",
   "metadata": {},
   "source": [
    "### 6. Unpacking items"
   ]
  },
  {
   "cell_type": "code",
   "execution_count": null,
   "id": "f5430123",
   "metadata": {},
   "outputs": [],
   "source": [
    "# 6. Unpacking items\n",
    "for student, grade in student_grades.items():\n",
    "    print(f\"Student: {student}, Grade: {grade}\")"
   ]
  },
  {
   "cell_type": "markdown",
   "id": "88fd50da",
   "metadata": {},
   "source": [
    "### 7. Using items in comprehensions"
   ]
  },
  {
   "cell_type": "code",
   "execution_count": null,
   "id": "639b8957",
   "metadata": {},
   "outputs": [],
   "source": [
    "# 7. Using items in comprehensions\n",
    "honor_roll = {student: grade for student, grade in student_grades.items() if grade >= 90}\n",
    "print(\"Honor Roll Students:\", honor_roll)  "
   ]
  },
  {
   "cell_type": "markdown",
   "id": "c876fb8c",
   "metadata": {},
   "source": [
    "### 8. Sorting items"
   ]
  },
  {
   "cell_type": "code",
   "execution_count": null,
   "id": "a9426b18",
   "metadata": {},
   "outputs": [],
   "source": [
    "# 8. Sorting items\n",
    "sorted_items = sorted(student_grades.items(), key=lambda item: item[1], reverse=True)\n",
    "print(\"Sorted items by grade (desc):\", sorted_items)"
   ]
  },
  {
   "cell_type": "markdown",
   "id": "77c738be",
   "metadata": {},
   "source": [
    "### 9. Converting items to other data structures"
   ]
  },
  {
   "cell_type": "code",
   "execution_count": null,
   "id": "23994682",
   "metadata": {},
   "outputs": [],
   "source": [
    "# 9. Converting items to other data structures\n",
    "items_set = set(student_grades.items())\n",
    "print(\"Set of items:\", items_set)\n",
    "items_frozenset = frozenset(student_grades.items())\n",
    "print(\"Frozenset of items:\", items_frozenset)"
   ]
  },
  {
   "cell_type": "markdown",
   "id": "ba14b595",
   "metadata": {},
   "source": [
    "### 10. Using items in advanced data structures"
   ]
  },
  {
   "cell_type": "code",
   "execution_count": null,
   "id": "7229d2c6",
   "metadata": {},
   "outputs": [],
   "source": [
    "# 10. Using items in advanced data structures\n",
    "from collections import defaultdict \n",
    "grade_dict = defaultdict(list)\n",
    "for student, grade in student_grades.items():   \n",
    "    grade_dict[grade].append(student)\n",
    "print(\"Grade to Students mapping:\", dict(grade_dict))"
   ]
  },
  {
   "cell_type": "code",
   "execution_count": null,
   "id": "b368f240",
   "metadata": {},
   "outputs": [],
   "source": [
    "\n",
    "\n",
    "\n",
    "\n",
    "# Best Practices:\n",
    "# \n",
    "# **Ideal for iteration, unpacking, and membership checks involving key-value pairs**\n",
    "# **Converting to list or dict is useful for specific data structure needs**\n",
    "# **Leverage in comprehensions and advanced structures for cleaner code**\n",
    "# **Utilize in functions like `max()` and `min()` for operations based on values**\n",
    "# **Sorting items can help in ordered data processing**\n",
    "# **Converting to sets or frozensets is beneficial for unique item collections**\n",
    "# **Using `defaultdict` with items can simplify grouping tasks**\n",
    "# **Remember that `.items()` returns a view object, which is dynamic and reflects changes in the dictionary**\n",
    "# **Choose the method based on your specific use case for optimal performance and readability**\n",
    "# **Avoid unnecessary conversions if you only need to iterate over items**\n",
    "# **Combine with other dictionary methods for comprehensive data handling**\n",
    "# **Test membership of key-value pairs directly using `.items()` for clarity**\n",
    "# **Use lambda functions for custom sorting or operations on items**\n",
    "# **Consider the size of the dictionary when performing operations to ensure efficiency**\n",
    "# **Document your use of `.items()` in complex scenarios for maintainability**\n",
    "# **Stay updated with Python documentation for any enhancements to dictionary methods**\n",
    "# **Practice using `.items()` in various contexts to become proficient**\n",
    "# **Review and refactor code to ensure optimal use of `.items()` where applicable**\n",
    "# **Engage with the Python community for tips and best practices on dictionary usage**\n",
    "# **Experiment with different data structures to find the best fit for your needs**\n",
    "# **Leverage the power of dictionary views for dynamic data handling**\n",
    "# **Optimize your code by choosing the right dictionary method for the task at hand**\n",
    "# **Keep performance in mind when working with large dictionaries and `.items()`**\n",
    "# **Use `.items()` in conjunction with other data processing techniques for robust solutions**\n",
    "# **Continuously learn and adapt your coding practices for better dictionary management**\n",
    "#   **Remember that effective use of dictionary methods can significantly enhance your code's efficiency and readability**\n",
    "# **Happy coding!**  \n"
   ]
  }
 ],
 "metadata": {
  "kernelspec": {
   "display_name": "base",
   "language": "python",
   "name": "python3"
  },
  "language_info": {
   "codemirror_mode": {
    "name": "ipython",
    "version": 3
   },
   "file_extension": ".py",
   "mimetype": "text/x-python",
   "name": "python",
   "nbconvert_exporter": "python",
   "pygments_lexer": "ipython3",
   "version": "3.13.5"
  }
 },
 "nbformat": 4,
 "nbformat_minor": 5
}
