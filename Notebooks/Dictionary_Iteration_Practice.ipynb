{
 "cells": [
  {
   "cell_type": "code",
   "execution_count": 1,
   "id": "0180cff7-f612-4377-bdfd-f8af65707769",
   "metadata": {},
   "outputs": [
    {
     "name": "stdout",
     "output_type": "stream",
     "text": [
      "Hello\n"
     ]
    }
   ],
   "source": [
    "print(\"Hello\")"
   ]
  },
  {
   "cell_type": "code",
   "execution_count": 16,
   "id": "90cf55c8-2fd3-4690-a787-7a36da1a63d1",
   "metadata": {},
   "outputs": [
    {
     "name": "stdout",
     "output_type": "stream",
     "text": [
      "Flexbox Basics\n",
      "Basic Flex Container\n",
      "['Item 1', 'Item 2', 'Item 3']\n",
      "Flex Container:\n",
      "The parent element with display: flex\n"
     ]
    }
   ],
   "source": [
    "\n",
    "info = {\n",
    "        'title': 'Flexbox Basics',\n",
    "        'description': 'Understanding the foundation of CSS Flexbox layout',\n",
    "        'content': 'Flexbox (Flexible Box Layout) is a CSS layout method that provides an efficient way to arrange, distribute, and align items in a container, even when their size is unknown or dynamic.',\n",
    "        'demo': {\n",
    "                 'header': 'Basic Flex Container',\n",
    "                 'items': ['Item 1', 'Item 2', 'Item 3']\n",
    "                },\n",
    "        'properties': [\n",
    "                    {\n",
    "                      'name': 'Flex Container:',\n",
    "                      'description': 'The parent element with display: flex'\n",
    "                    },\n",
    "                    {\n",
    "                      'name': 'Flex Items:',\n",
    "                      'description': 'Direct children of the flex container'\n",
    "                    },\n",
    "                    {\n",
    "                      'name': 'Main Axis:',\n",
    "                      'description': 'Primary axis along which flex items are laid out'\n",
    "                    },\n",
    "                    {\n",
    "                      'name': 'Cross Axis:',\n",
    "                      'description': 'Axis perpendicular to the main axis'\n",
    "                    }\n",
    "                ]\n",
    "            }\n",
    "\n",
    "print(info['title'])\n",
    "print(info['demo']['header'])\n",
    "print(info['demo']['items'])\n",
    "print(info['properties'][0]['name'])\n",
    "print(info['properties'][0]['description'])"
   ]
  },
  {
   "cell_type": "code",
   "execution_count": 47,
   "id": "187bdf43-6fa1-449d-b26a-72907598bc6d",
   "metadata": {},
   "outputs": [
    {
     "name": "stdout",
     "output_type": "stream",
     "text": [
      "Concept: Flexbox Basics\n",
      "Concept: Flex Direction\n"
     ]
    }
   ],
   "source": [
    "sub_concepts =  [\n",
    "            {\n",
    "                'title': 'Flexbox Basics',\n",
    "                'description': 'Understanding the foundation of CSS Flexbox layout',\n",
    "                'content': 'Flexbox (Flexible Box Layout) is a CSS layout method that provides an efficient way to arrange, distribute, and align items in a container, even when their size is unknown or dynamic.',\n",
    "                'demo': {\n",
    "                    'header': 'Basic Flex Container',\n",
    "                    'items': ['Item 1', 'Item 2', 'Item 3']\n",
    "                },\n",
    "                'properties': [\n",
    "                    {\n",
    "                        'name': 'Flex Container:',\n",
    "                        'description': 'The parent element with display: flex'\n",
    "                    },\n",
    "                    {\n",
    "                        'name': 'Flex Items:',\n",
    "                        'description': 'Direct children of the flex container'\n",
    "                    },\n",
    "                    {\n",
    "                        'name': 'Main Axis:',\n",
    "                        'description': 'Primary axis along which flex items are laid out'\n",
    "                    },\n",
    "                    {\n",
    "                        'name': 'Cross Axis:',\n",
    "                        'description': 'Axis perpendicular to the main axis'\n",
    "                    }\n",
    "                ]\n",
    "            },\n",
    "\n",
    "            {\n",
    "                'title': 'Flex Direction',\n",
    "                'description': 'Control the direction of flex items',\n",
    "                'content': 'The <code>flex-direction</code> property defines the main axis and the direction flex items are placed in the container.',\n",
    "                'demo': {\n",
    "                    'header': 'Flex Direction Demo',\n",
    "                    'items': ['First', 'Second', 'Third', 'Fourth']\n",
    "                },\n",
    "                'properties': [\n",
    "                    {\n",
    "                        'name': '<code>row</code>',\n",
    "                        'description': 'The default value. Items are arranged horizontally, left to right.'\n",
    "                    },\n",
    "                    {\n",
    "                        'name': '<code>row-reverse</code>',\n",
    "                        'description': 'Items are arranged horizontally, but from right to left.'\n",
    "                    },\n",
    "                    {\n",
    "                        'name': '<code>column</code>',\n",
    "                        'description': 'Items are arranged vertically, from top to bottom.'\n",
    "                    },\n",
    "                    {\n",
    "                        'name': '<code>column-reverse</code>',\n",
    "                        'description': 'Items are arranged vertically, but from bottom to top'\n",
    "                    }\n",
    "                ]\n",
    "            }\n",
    "]\n",
    "\n",
    "for concept_info in sub_concepts:\n",
    "    print(f\"Concept: {concept_info['title']}\")\n",
    "    # for concept in concept_info.keys():\n",
    "    #     print(concept)\n"
   ]
  },
  {
   "cell_type": "code",
   "execution_count": null,
   "id": "11f8cd32-09c7-4b06-b391-c20ce7f0d56c",
   "metadata": {},
   "outputs": [],
   "source": []
  }
 ],
 "metadata": {
  "kernelspec": {
   "display_name": "Python 3 (ipykernel)",
   "language": "python",
   "name": "python3"
  },
  "language_info": {
   "codemirror_mode": {
    "name": "ipython",
    "version": 3
   },
   "file_extension": ".py",
   "mimetype": "text/x-python",
   "name": "python",
   "nbconvert_exporter": "python",
   "pygments_lexer": "ipython3",
   "version": "3.13.5"
  }
 },
 "nbformat": 4,
 "nbformat_minor": 5
}
