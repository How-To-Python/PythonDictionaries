{
 "cells": [
  {
   "cell_type": "markdown",
   "id": "bc4e08ac",
   "metadata": {},
   "source": [
    "# `.keys()` method\n",
    "**Used to get the keys of the dictionary**\n",
    "1. [Iterating over keys (default behavior)](#1-iterating-over-keys-default-behavior)\n",
    "2. [Explicit iteration  using `keys()` method](#2-explicit-keys--method-iteration)\n",
    "\n",
    "### Best Practices:\n",
    "**Use `.keys()` for set operations or when checking multiple keys**"
   ]
  },
  {
   "cell_type": "code",
   "execution_count": 5,
   "id": "90216ec2",
   "metadata": {},
   "outputs": [
    {
     "name": "stdout",
     "output_type": "stream",
     "text": [
      "Sample dictionary: {'James': 95, 'Bill': 87, 'Zara': 92, 'Yolanda': 88, 'Eric': 91}\n",
      "Number of students: 5\n",
      "dict_keys(['James', 'Bill', 'Zara', 'Yolanda', 'Eric'])\n",
      "Keys: ['James', 'Bill', 'Zara', 'Yolanda', 'Eric']\n"
     ]
    }
   ],
   "source": [
    "# Sample dictionary for demonstrations\n",
    "student_grades = {\n",
    "    \"James\": 95,\n",
    "    \"Bill\": 87,\n",
    "    \"Zara\": 92,\n",
    "    \"Yolanda\": 88,\n",
    "    \"Eric\": 91\n",
    "}\n",
    "\n",
    "print(f\"Sample dictionary: {student_grades}\")\n",
    "print(f\"Number of students: {len(student_grades)}\")\n",
    "\n",
    "# Getting all keys: `.keys()`\n",
    "print(student_grades.keys())# returns a view object, which is iterable: dict_keys([])\n",
    "print(\"Keys:\", list(student_grades.keys()))# Converting to a list"
   ]
  },
  {
   "cell_type": "markdown",
   "id": "02415fe3",
   "metadata": {},
   "source": [
    "### 1. Iterating over keys (default behavior)\n",
    "- iterating over a dictionary directly yields its keys by default\n",
    "- the preferred way to iterate over keys in a dictionary\n",
    "- more concise "
   ]
  },
  {
   "cell_type": "code",
   "execution_count": null,
   "id": "227f8a04",
   "metadata": {},
   "outputs": [],
   "source": [
    "# 1. Iterating over keys (default behavior)\n",
    "print(\"Method 1: Iterating over keys (default)\")\n",
    "for student in student_grades:\n",
    "    print(f\"Student: {student}\")"
   ]
  },
  {
   "cell_type": "markdown",
   "id": "f3a0762d",
   "metadata": {},
   "source": [
    "### 2. Explicit iteration using `keys() ` method\n",
    "- use when you want to explicitly indicate that you are working with keys"
   ]
  },
  {
   "cell_type": "code",
   "execution_count": null,
   "id": "c0495cf1",
   "metadata": {},
   "outputs": [],
   "source": [
    "# 2. Explicit `keys() ` method iteration\n",
    "# keys() method is used to get the keys of the dictionary\n",
    "for student in student_grades.keys():\n",
    "    print(f\"Student: {student}\")"
   ]
  },
  {
   "cell_type": "markdown",
   "id": "c54348ab",
   "metadata": {},
   "source": [
    "### 3. Sort by keys"
   ]
  },
  {
   "cell_type": "code",
   "execution_count": 6,
   "id": "df26445b",
   "metadata": {},
   "outputs": [
    {
     "name": "stdout",
     "output_type": "stream",
     "text": [
      "Students sorted alphabetically:\n",
      "  Bill: 87\n",
      "  Eric: 91\n",
      "  James: 95\n",
      "  Yolanda: 88\n",
      "  Zara: 92\n"
     ]
    }
   ],
   "source": [
    "# Sort by keys\n",
    "print(\"Students sorted alphabetically:\")\n",
    "for student in sorted(student_grades.keys()):\n",
    "    print(f\"  {student}: {student_grades[student]}\")"
   ]
  },
  {
   "cell_type": "markdown",
   "id": "956e9397",
   "metadata": {},
   "source": [
    "### 4. Using `.keys()` for Set Operations\n",
    "**Set operations allow you to compare, combine, and find differences between dictionary keys.**\n",
    "- [Set Data Type Learning Guide](https://github.com/How-To-Python/Python-Data-Types/blob/main/Notebooks/Set_Data_Type.ipynb)"
   ]
  },
  {
   "cell_type": "code",
   "execution_count": null,
   "id": "292125cc",
   "metadata": {},
   "outputs": [],
   "source": [
    "# Creating additional dictionaries for set operations\n",
    "teacher_grades = {\n",
    "    \"James\": 98,\n",
    "    \"Sarah\": 94,\n",
    "    \"Bill\": 89,\n",
    "    \"Tom\": 85\n",
    "}\n",
    "\n",
    "lab_scores = {\n",
    "    \"Eric\": 88,\n",
    "    \"Zara\": 95,\n",
    "    \"Mike\": 90,\n",
    "    \"Sarah\": 92\n",
    "}\n",
    "\n",
    "print(\"Student grades:\", list(student_grades.keys()))\n",
    "print(\"Teacher grades:\", list(teacher_grades.keys()))\n",
    "print(\"Lab scores:\", list(lab_scores.keys()))\n",
    "\n",
    "# Set operations with dictionary keys\n",
    "print(\"\\n--- SET OPERATIONS ---\")\n",
    "\n",
    "# 1. Find common keys (intersection: &):\n",
    "common_students = student_grades.keys() & teacher_grades.keys()\n",
    "print(f\"Students in both dictionaries: {common_students}\")\n",
    "\n",
    "# 2. Find all unique keys (union: |):\n",
    "all_people = student_grades.keys() | teacher_grades.keys() | lab_scores.keys()\n",
    "print(f\"All people across dictionaries: {all_people}\")\n",
    "\n",
    "# 3. Find keys in first dict but not in second (difference: -)\n",
    "only_in_students = student_grades.keys() - teacher_grades.keys()\n",
    "print(f\"Only in student grades: {only_in_students}\")\n",
    "\n",
    "# 4. Find keys that are in either dict but not both (symmetric difference: ^)\n",
    "different_keys = student_grades.keys() ^ lab_scores.keys()\n",
    "print(f\"Keys in either student_grades or lab_scores (but not both): {different_keys}\")"
   ]
  },
  {
   "cell_type": "markdown",
   "id": "f86a9465",
   "metadata": {},
   "source": [
    "### 5. Checking Multiple Keys\n",
    "Use `.keys()` when you need to verify the existence of multiple keys at once."
   ]
  },
  {
   "cell_type": "code",
   "execution_count": null,
   "id": "a0ab2feb",
   "metadata": {},
   "outputs": [],
   "source": [
    "# Checking multiple keys efficiently using .keys()\n",
    "\n",
    "# 1. Check if ALL required keys exist\n",
    "required_keys = {\"James\", \"Bill\", \"Zara\"}\n",
    "has_all_keys = required_keys <= student_grades.keys()  # subset check\n",
    "print(f\"Dictionary has all required keys {required_keys}: {has_all_keys}\")\n",
    "\n",
    "# Alternative method using set operations\n",
    "has_all_keys_alt = required_keys.issubset(student_grades.keys())\n",
    "print(f\"Alternative check - has all keys: {has_all_keys_alt}\")\n",
    "\n",
    "# 2. Check if ANY of the keys exist\n",
    "check_keys = {\"Alice\", \"Bob\", \"James\"}\n",
    "has_any_key = bool(check_keys & student_grades.keys())  # intersection check\n",
    "print(f\"Dictionary has any of these keys {check_keys}: {has_any_key}\")\n",
    "\n",
    "# 3. Find which specific keys are missing\n",
    "missing_keys = required_keys - student_grades.keys()\n",
    "if missing_keys:\n",
    "    print(f\"Missing keys: {missing_keys}\")\n",
    "else:\n",
    "    print(\"All required keys are present!\")\n",
    "\n",
    "# 4. Validate expected structure\n",
    "expected_students = {\"James\", \"Bill\", \"Zara\", \"Yolanda\", \"Eric\"}\n",
    "actual_students = set(student_grades.keys())\n",
    "\n",
    "if expected_students == actual_students:\n",
    "    print(\"✓ Dictionary structure matches expected\")\n",
    "else:\n",
    "    extra = actual_students - expected_students\n",
    "    missing = expected_students - actual_students\n",
    "    if extra:\n",
    "        print(f\"⚠ Extra keys found: {extra}\")\n",
    "    if missing:\n",
    "        print(f\"⚠ Missing keys: {missing}\")"
   ]
  },
  {
   "cell_type": "markdown",
   "id": "aaaee7c0",
   "metadata": {},
   "source": [
    "### 6. Practical Use Cases\n",
    "Real-world scenarios where `.keys()` with set operations is particularly useful."
   ]
  },
  {
   "cell_type": "code",
   "execution_count": null,
   "id": "ddf0f458",
   "metadata": {},
   "outputs": [],
   "source": [
    "# Practical examples using .keys() for set operations\n",
    "\n",
    "# Example 1: Configuration validation\n",
    "required_config = {\"database_url\", \"api_key\", \"debug_mode\"}\n",
    "user_config = {\n",
    "    \"database_url\": \"localhost:5432\",\n",
    "    \"api_key\": \"secret123\",\n",
    "    \"timeout\": 30\n",
    "}\n",
    "\n",
    "missing_config = required_config - user_config.keys()\n",
    "if missing_config:\n",
    "    print(f\"❌ Configuration error! Missing: {missing_config}\")\n",
    "else:\n",
    "    print(\"✅ Configuration is valid!\")\n",
    "\n",
    "# Example 2: Data synchronization\n",
    "old_data = {\"user1\": \"data1\", \"user2\": \"data2\", \"user3\": \"data3\"}\n",
    "new_data = {\"user1\": \"updated1\", \"user4\": \"data4\", \"user5\": \"data5\"}\n",
    "\n",
    "# Find what needs to be updated, added, or removed\n",
    "to_update = old_data.keys() & new_data.keys()  # common keys\n",
    "to_add = new_data.keys() - old_data.keys()     # new keys\n",
    "to_remove = old_data.keys() - new_data.keys()  # removed keys\n",
    "\n",
    "print(f\"Update: {to_update}\")\n",
    "print(f\"Add: {to_add}\")\n",
    "print(f\"Remove: {to_remove}\")\n",
    "\n",
    "# Example 3: Permission checking\n",
    "user_permissions = {\"read\", \"write\", \"delete\"}\n",
    "required_permissions = {\"read\", \"write\"}\n",
    "admin_permissions = {\"read\", \"write\", \"delete\", \"admin\"}\n",
    "\n",
    "# Check if user has minimum required permissions\n",
    "has_minimum = required_permissions <= user_permissions\n",
    "print(f\"User has minimum permissions: {has_minimum}\")\n",
    "\n",
    "# Check if user has admin privileges\n",
    "is_admin = admin_permissions <= user_permissions\n",
    "print(f\"User is admin: {is_admin}\")"
   ]
  },
  {
   "cell_type": "code",
   "execution_count": null,
   "id": "d708a81e",
   "metadata": {},
   "outputs": [],
   "source": []
  }
 ],
 "metadata": {
  "kernelspec": {
   "display_name": "base",
   "language": "python",
   "name": "python3"
  },
  "language_info": {
   "codemirror_mode": {
    "name": "ipython",
    "version": 3
   },
   "file_extension": ".py",
   "mimetype": "text/x-python",
   "name": "python",
   "nbconvert_exporter": "python",
   "pygments_lexer": "ipython3",
   "version": "3.13.5"
  }
 },
 "nbformat": 4,
 "nbformat_minor": 5
}
