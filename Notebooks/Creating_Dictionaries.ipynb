{
 "cells": [
  {
   "cell_type": "markdown",
   "id": "653d6f66",
   "metadata": {},
   "source": [
    "# Creating Dictionaries\n",
    "\n",
    "Learn different ways to create and initialize Python dictionaries.\n",
    "\n",
    "## Learning Objectives\n",
    "- Create empty dictionaries\n",
    "- Initialize dictionaries with data\n",
    "- Use dict() constructor\n",
    "- Create dictionaries from other data structures"
   ]
  },
  {
   "cell_type": "code",
   "execution_count": null,
   "id": "ef048611",
   "metadata": {},
   "outputs": [],
   "source": [
    "# 1. Empty Dictionaries\n",
    "empty_dict = {}\n",
    "also_empty = dict()\n",
    "\n",
    "print(\"Empty with {}:\", empty_dict)\n",
    "print(\"Empty with dict():\", also_empty)\n",
    "print(\"Both are equal:\", empty_dict == also_empty)"
   ]
  },
  {
   "cell_type": "code",
   "execution_count": null,
   "id": "519647bd",
   "metadata": {},
   "outputs": [],
   "source": [
    "# 2. Dictionary with Initial Values\n",
    "person = {\n",
    "    \"name\": \"John\",\n",
    "    \"age\": 30,\n",
    "    \"city\": \"New York\"\n",
    "}\n",
    "\n",
    "print(\"Person:\", person)\n",
    "print(\"Name:\", person[\"name\"])\n",
    "print(\"Age:\", person[\"age\"])"
   ]
  },
  {
   "cell_type": "code",
   "execution_count": null,
   "id": "6db02a1b",
   "metadata": {},
   "outputs": [],
   "source": [
    "# 3. Using dict() constructor\n",
    "# Method 1: Keyword arguments\n",
    "student = dict(name=\"Alice\", age=20, major=\"CS\")\n",
    "print(\"Student:\", student)\n",
    "\n",
    "# Method 2: List of tuples\n",
    "colors = dict([(\"red\", \"#FF0000\"), (\"green\", \"#00FF00\"), (\"blue\", \"#0000FF\")])\n",
    "print(\"Colors:\", colors)\n",
    "\n",
    "# Method 3: Zip two lists\n",
    "keys = [\"apple\", \"banana\", \"cherry\"]\n",
    "values = [1.20, 0.50, 2.00]\n",
    "fruits = dict(zip(keys, values))\n",
    "print(\"Fruits:\", fruits)"
   ]
  },
  {
   "cell_type": "markdown",
   "id": "d9bd51d2",
   "metadata": {},
   "source": [
    "## Practice Exercise\n",
    "Create a dictionary representing your favorite book with keys: title, author, year, genre"
   ]
  },
  {
   "cell_type": "code",
   "execution_count": null,
   "id": "0beff47c",
   "metadata": {},
   "outputs": [],
   "source": [
    "# Your turn! Create a book dictionary\n",
    "favorite_book = {\n",
    "    \"title\": \"Your Book Title\",\n",
    "    \"author\": \"Author Name\", \n",
    "    \"year\": 2020,\n",
    "    \"genre\": \"Fiction\"\n",
    "}\n",
    "\n",
    "print(\"My favorite book:\", favorite_book)"
   ]
  }
 ],
 "metadata": {
  "language_info": {
   "name": "python"
  }
 },
 "nbformat": 4,
 "nbformat_minor": 5
}
