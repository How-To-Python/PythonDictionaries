{
 "cells": [
  {
   "cell_type": "markdown",
   "id": "bfbe1a71",
   "metadata": {
    "panel-layout": {
     "height": 211.8249969482422,
     "visible": true,
     "width": 100
    }
   },
   "source": [
    "# Accessing Dictionary Items\n",
    "\n",
    "Learn different ways to access and retrieve values from Python dictionaries.\n",
    "\n",
    "## Learning Objectives\n",
    "1. [Access values using keys: bracket notation](#access-values-using-keys-bracket-notation-)\n",
    "2. [Access values using keys: `get()` method for safe access](#access-values-using-keys-get-method)\n",
    "3. [Check if key exists](#3-check-if-key-exist)\n",
    "4. [Get all keys](#4-getting-all-keys-keys)\n",
    "5. [Get all values](#5-getting-all-values-values)\n",
    "6. [Get all items](#6-getting-all-items-items)\n",
    "7. [Check if value exists](#7-check-if-value-exists)\n",
    "\n",
    "\n",
    "**Standard Python dictionaries do not inherently support accessing items using dot notation. But there are several ways to achieve dot notation access for dictionary-like objects in Python**"
   ]
  },
  {
   "cell_type": "code",
   "execution_count": 2,
   "id": "9fd1635c",
   "metadata": {
    "panel-layout": {
     "height": 0,
     "visible": true,
     "width": 100
    }
   },
   "outputs": [
    {
     "name": "stdout",
     "output_type": "stream",
     "text": [
      "Student data: {'name': 'Alice', 'age': 20, 'major': 'Computer Science', 'gpa': 3.85, 'courses': ['Python', 'Data Structures', 'Algorithms']}\n"
     ]
    }
   ],
   "source": [
    "# Sample dictionary for examples\n",
    "student = {\n",
    "    \"name\": \"Alice\",\n",
    "    \"age\": 20,\n",
    "    \"major\": \"Computer Science\",\n",
    "    \"gpa\": 3.85,\n",
    "    \"courses\": [\"Python\", \"Data Structures\", \"Algorithms\"]\n",
    "}\n",
    "\n",
    "print(\"Student data:\", student)"
   ]
  },
  {
   "cell_type": "markdown",
   "id": "15ceea47-c3d8-4924-9b0f-5c1d1c43eb6f",
   "metadata": {
    "panel-layout": {
     "height": 78.20000457763672,
     "visible": true,
     "width": 100
    }
   },
   "source": [
    "### 1. Direct Access: Bracket Notation []\n",
    "- uses the key to access the value\n",
    "- will raise KeyError if key doesn't exist"
   ]
  },
  {
   "cell_type": "code",
   "execution_count": 6,
   "id": "84636193",
   "metadata": {},
   "outputs": [
    {
     "name": "stdout",
     "output_type": "stream",
     "text": [
      "Name: Alice\n",
      "Age: 20\n",
      "Courses: ['Python', 'Data Structures', 'Algorithms']\n",
      "KeyError: 'grade'\n"
     ]
    }
   ],
   "source": [
    "# 1. Direct key access using []\n",
    "print(\"Name:\", student[\"name\"])\n",
    "print(\"Age:\", student[\"age\"])\n",
    "print(\"Courses:\", student[\"courses\"])\n",
    "#print(\"Grade:\", student[\"grade\"])# will raise KeyError\n",
    "\n",
    "\n",
    "# This will raise KeyError if key doesn't exist\n",
    "try:\n",
    "    print(student[\"grade\"])  # Key doesn't exist\n",
    "except KeyError as e:\n",
    "    print(f\"KeyError: {e}\")"
   ]
  },
  {
   "cell_type": "markdown",
   "id": "c3a92be9-1d55-4fb5-ba32-dec1759e4787",
   "metadata": {
    "panel-layout": {
     "height": 78.20000457763672,
     "visible": true,
     "width": 100
    }
   },
   "source": [
    "### 2. Safe key to access values: get() method\n",
    "- **Safe Access**: will not raise KeyError if key doesn't exist\n",
    "- **Handle missing keys**: provide a default value if key does not exist\n",
    "    - if no default value is given then it will return `None`\n",
    "- ['values()` method Learning Guide](./Dict_values_method.ipynb)"
   ]
  },
  {
   "cell_type": "code",
   "execution_count": null,
   "id": "aa373078",
   "metadata": {
    "panel-layout": {
     "height": 0,
     "visible": true,
     "width": 100
    }
   },
   "outputs": [],
   "source": [
    "# 2. Safe access using get() method\n",
    "print(\"Name:\", student.get(\"name\"))\n",
    "print(\"Grade:\", student.get(\"grade\"))  # Returns None if key doesn't exist\n",
    "print(\"Grade with default:\", student.get(\"grade\", \"Not assigned\"))# Returns \"Not assigned\" if key doesn't exist\n",
    "\n",
    "# get() is safer than direct access\n",
    "print(\"Scholarship:\", student.get(\"scholarship\", False))"
   ]
  },
  {
   "cell_type": "markdown",
   "id": "b771a893",
   "metadata": {},
   "source": [
    "### 3. Check if key Exist"
   ]
  },
  {
   "cell_type": "code",
   "execution_count": null,
   "id": "7b3dcc01",
   "metadata": {},
   "outputs": [],
   "source": [
    "# 3. Checking if keys exist\n",
    "print(\"'name' in student:\", \"name\" in student) # True\n",
    "print(\"'grade' in student:\", \"grade\" in student) # False\n",
    "print(\"'age' not in student:\", \"age\" not in student) # False\n",
    "\n",
    "# Conditional access: Accessing a key that might not exist\n",
    "if \"gpa\" in student:\n",
    "    print(f\"Student's GPA is: {student['gpa']}\") # 3.8\n",
    "else:\n",
    "    print(\"GPA not available\")"
   ]
  },
  {
   "cell_type": "markdown",
   "id": "b942b756",
   "metadata": {},
   "source": [
    "### 4. Getting all keys: `.keys()`\n",
    "- [`keys()` method Learning Guide](./Dict_keys_method.ipynb)"
   ]
  },
  {
   "cell_type": "code",
   "execution_count": 5,
   "id": "b2bdae98",
   "metadata": {},
   "outputs": [
    {
     "name": "stdout",
     "output_type": "stream",
     "text": [
      "Keys: ['name', 'age', 'major', 'gpa', 'courses']\n",
      "Keys: dict_keys(['name', 'age', 'major', 'gpa', 'courses'])\n"
     ]
    }
   ],
   "source": [
    "# 4. Getting all keys: `.keys()` \n",
    "print(student.keys())# returns a view object, which is iterable: dict_keys([])\n",
    "\n",
    "print(\"Keys:\", list(student.keys()))# Converting to a list\n"
   ]
  },
  {
   "cell_type": "markdown",
   "id": "496ae3cd",
   "metadata": {},
   "source": [
    "### 5. Getting all values: `.values()`"
   ]
  },
  {
   "cell_type": "code",
   "execution_count": null,
   "id": "3d5c28d4",
   "metadata": {},
   "outputs": [],
   "source": [
    "# 5. Getting all values: `.values()`\n",
    "print(student.values()) # returns a view object, which is iterable: dict_values([])\n",
    "\n",
    "print(\"Values:\", list(student.values()))# Converting to a list"
   ]
  },
  {
   "cell_type": "markdown",
   "id": "49feb31a",
   "metadata": {},
   "source": [
    "### 6. Getting all items: `.items()`"
   ]
  },
  {
   "cell_type": "code",
   "execution_count": null,
   "id": "e8f7f6d5",
   "metadata": {},
   "outputs": [],
   "source": [
    "# 6. Getting all items: `.items()`\n",
    "print(student.items()) # returns a view object, which is iterable: dict_items([()])\n",
    "\n",
    "print(\"Items:\", list(student.items()))# Converting to a list of tuples"
   ]
  },
  {
   "cell_type": "markdown",
   "id": "637dca22",
   "metadata": {},
   "source": [
    "### 7. Check if value exists"
   ]
  },
  {
   "cell_type": "code",
   "execution_count": null,
   "id": "563952f8",
   "metadata": {
    "panel-layout": {
     "height": 0,
     "visible": true,
     "width": 100
    }
   },
   "outputs": [],
   "source": [
    "# 7. Check if a value exists\n",
    "print(\"'Alice' in values:\", \"Alice\" in student.values()) # True\n",
    "print(\"25 in values:\", 25 in student.values()) # False"
   ]
  },
  {
   "cell_type": "markdown",
   "id": "5bb5a18b",
   "metadata": {
    "panel-layout": {
     "height": 84.4000015258789,
     "visible": true,
     "width": 100
    }
   },
   "source": [
    "## Practice Exercise\n",
    "Create a product inventory and safely access different product information."
   ]
  },
  {
   "cell_type": "code",
   "execution_count": 8,
   "id": "9e8809dc",
   "metadata": {
    "panel-layout": {
     "height": 0,
     "visible": true,
     "width": 100
    }
   },
   "outputs": [
    {
     "name": "stdout",
     "output_type": "stream",
     "text": [
      "Laptop: $999.99, Stock: 5\n",
      "Tablet info: {'price': 0, 'stock': 0}\n"
     ]
    }
   ],
   "source": [
    "# Product inventory\n",
    "inventory = {\n",
    "    \"laptop\": {\"price\": 999.99, \"stock\": 5},\n",
    "    \"mouse\": {\"price\": 29.99, \"stock\": 20},\n",
    "    \"keyboard\": {\"price\": 79.99, \"stock\": 15}\n",
    "}\n",
    "\n",
    "# Practice: Access product information safely\n",
    "product = \"laptop\"\n",
    "if product in inventory:\n",
    "    info = inventory[product]# {'price': 999.99, 'stock': 5}\n",
    "    print(f\"{product.title()}: ${info['price']}, Stock: {info['stock']}\")\n",
    "\n",
    "# Try accessing non-existent product\n",
    "tablet_info = inventory.get(\"tablet\", {\"price\": 0, \"stock\": 0})\n",
    "print(f\"Tablet info: {tablet_info}\")"
   ]
  }
 ],
 "metadata": {
  "kernelspec": {
   "display_name": "base",
   "language": "python",
   "name": "python3"
  },
  "language_info": {
   "codemirror_mode": {
    "name": "ipython",
    "version": 3
   },
   "file_extension": ".py",
   "mimetype": "text/x-python",
   "name": "python",
   "nbconvert_exporter": "python",
   "pygments_lexer": "ipython3",
   "version": "3.13.5"
  },
  "panel-cell-order": [
   "bfbe1a71",
   "9fd1635c",
   "15ceea47-c3d8-4924-9b0f-5c1d1c43eb6f",
   "c3a92be9-1d55-4fb5-ba32-dec1759e4787",
   "aa373078",
   "563952f8",
   "5bb5a18b",
   "9e8809dc"
  ]
 },
 "nbformat": 4,
 "nbformat_minor": 5
}
