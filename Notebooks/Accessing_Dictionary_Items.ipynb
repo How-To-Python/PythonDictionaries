{
 "cells": [
  {
   "cell_type": "markdown",
   "id": "bfbe1a71",
   "metadata": {},
   "source": [
    "# Accessing Dictionary Items\n",
    "\n",
    "Learn different ways to access and retrieve values from Python dictionaries.\n",
    "\n",
    "## Learning Objectives\n",
    "- Access values using keys\n",
    "- Use get() method for safe access\n",
    "- Handle missing keys\n",
    "- Check for key existence"
   ]
  },
  {
   "cell_type": "code",
   "execution_count": null,
   "id": "9fd1635c",
   "metadata": {},
   "outputs": [],
   "source": [
    "# Sample dictionary for examples\n",
    "student = {\n",
    "    \"name\": \"Alice\",\n",
    "    \"age\": 20,\n",
    "    \"major\": \"Computer Science\",\n",
    "    \"gpa\": 3.85,\n",
    "    \"courses\": [\"Python\", \"Data Structures\", \"Algorithms\"]\n",
    "}\n",
    "\n",
    "print(\"Student data:\", student)"
   ]
  },
  {
   "cell_type": "code",
   "execution_count": null,
   "id": "84636193",
   "metadata": {},
   "outputs": [],
   "source": [
    "# 1. Direct key access using []\n",
    "print(\"Name:\", student[\"name\"])\n",
    "print(\"Age:\", student[\"age\"])\n",
    "print(\"Courses:\", student[\"courses\"])\n",
    "\n",
    "# This will raise KeyError if key doesn't exist\n",
    "try:\n",
    "    print(student[\"grade\"])  # Key doesn't exist\n",
    "except KeyError as e:\n",
    "    print(f\"KeyError: {e}\")"
   ]
  },
  {
   "cell_type": "code",
   "execution_count": null,
   "id": "aa373078",
   "metadata": {},
   "outputs": [],
   "source": [
    "# 2. Safe access using get() method\n",
    "print(\"Name:\", student.get(\"name\"))\n",
    "print(\"Grade:\", student.get(\"grade\"))  # Returns None if key doesn't exist\n",
    "print(\"Grade with default:\", student.get(\"grade\", \"Not assigned\"))\n",
    "\n",
    "# get() is safer than direct access\n",
    "print(\"Scholarship:\", student.get(\"scholarship\", False))"
   ]
  },
  {
   "cell_type": "code",
   "execution_count": null,
   "id": "7b3dcc01",
   "metadata": {},
   "outputs": [],
   "source": [
    "# 3. Checking if keys exist\n",
    "print(\"'name' in student:\", \"name\" in student)\n",
    "print(\"'grade' in student:\", \"grade\" in student)\n",
    "print(\"'age' not in student:\", \"age\" not in student)\n",
    "\n",
    "# Conditional access\n",
    "if \"gpa\" in student:\n",
    "    print(f\"Student's GPA is: {student['gpa']}\")\n",
    "else:\n",
    "    print(\"GPA not available\")"
   ]
  },
  {
   "cell_type": "code",
   "execution_count": null,
   "id": "563952f8",
   "metadata": {},
   "outputs": [],
   "source": [
    "# 4. Getting all keys, values, and items\n",
    "print(\"Keys:\", list(student.keys()))\n",
    "print(\"Values:\", list(student.values()))\n",
    "print(\"Items:\", list(student.items()))\n",
    "\n",
    "# Check if a value exists\n",
    "print(\"'Alice' in values:\", \"Alice\" in student.values())\n",
    "print(\"25 in values:\", 25 in student.values())"
   ]
  },
  {
   "cell_type": "markdown",
   "id": "5bb5a18b",
   "metadata": {},
   "source": [
    "## Practice Exercise\n",
    "Create a product inventory and safely access different product information."
   ]
  },
  {
   "cell_type": "code",
   "execution_count": null,
   "id": "9e8809dc",
   "metadata": {},
   "outputs": [],
   "source": [
    "# Product inventory\n",
    "inventory = {\n",
    "    \"laptop\": {\"price\": 999.99, \"stock\": 5},\n",
    "    \"mouse\": {\"price\": 29.99, \"stock\": 20},\n",
    "    \"keyboard\": {\"price\": 79.99, \"stock\": 15}\n",
    "}\n",
    "\n",
    "# Practice: Access product information safely\n",
    "product = \"laptop\"\n",
    "if product in inventory:\n",
    "    info = inventory[product]\n",
    "    print(f\"{product.title()}: ${info['price']}, Stock: {info['stock']}\")\n",
    "\n",
    "# Try accessing non-existent product\n",
    "tablet_info = inventory.get(\"tablet\", {\"price\": 0, \"stock\": 0})\n",
    "print(f\"Tablet info: {tablet_info}\")"
   ]
  }
 ],
 "metadata": {
  "language_info": {
   "name": "python"
  }
 },
 "nbformat": 4,
 "nbformat_minor": 5
}
