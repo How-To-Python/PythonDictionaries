{
 "cells": [
  {
   "cell_type": "markdown",
   "id": "dee52d78",
   "metadata": {},
   "source": [
    "# Removing Dictionary Items\n",
    "\n",
    "This notebook covers various methods to remove items from Python dictionaries, including safety considerations and best practices.\n",
    "\n",
    "## Topics Covered:\n",
    "- Using `del` statement\n",
    "- Using `pop()` method\n",
    "- Using `popitem()` method\n",
    "- Using `clear()` method\n",
    "- Safe removal techniques\n",
    "- Conditional removal"
   ]
  },
  {
   "cell_type": "markdown",
   "id": "cfcd577d",
   "metadata": {},
   "source": [
    "## 1. Using the `del` Statement"
   ]
  },
  {
   "cell_type": "code",
   "execution_count": null,
   "id": "4f4b66d7",
   "metadata": {},
   "outputs": [],
   "source": [
    "# Create a sample dictionary\n",
    "student = {\n",
    "    \"name\": \"Alice\",\n",
    "    \"age\": 20,\n",
    "    \"major\": \"Computer Science\",\n",
    "    \"gpa\": 3.85,\n",
    "    \"graduated\": False\n",
    "}\n",
    "\n",
    "print(\"Original dictionary:\")\n",
    "print(student)\n",
    "print(f\"Length: {len(student)}\")"
   ]
  },
  {
   "cell_type": "code",
   "execution_count": null,
   "id": "35b92892",
   "metadata": {},
   "outputs": [],
   "source": [
    "# Remove a single item using del\n",
    "del student[\"graduated\"]\n",
    "\n",
    "print(\"After removing 'graduated':\")\n",
    "print(student)\n",
    "print(f\"Length: {len(student)}\")"
   ]
  },
  {
   "cell_type": "code",
   "execution_count": null,
   "id": "869af511",
   "metadata": {},
   "outputs": [],
   "source": [
    "# Trying to delete a non-existent key raises KeyError\n",
    "try:\n",
    "    del student[\"nonexistent\"]\n",
    "except KeyError as e:\n",
    "    print(f\"KeyError caught: {e}\")\n",
    "    print(\"The key doesn't exist!\")"
   ]
  },
  {
   "cell_type": "code",
   "execution_count": null,
   "id": "78914baa",
   "metadata": {},
   "outputs": [],
   "source": [
    "# Safe deletion using 'in' check\n",
    "key_to_remove = \"major\"\n",
    "\n",
    "if key_to_remove in student:\n",
    "    del student[key_to_remove]\n",
    "    print(f\"Removed '{key_to_remove}'\")\n",
    "else:\n",
    "    print(f\"Key '{key_to_remove}' not found\")\n",
    "\n",
    "print(\"Current dictionary:\")\n",
    "print(student)"
   ]
  },
  {
   "cell_type": "markdown",
   "id": "b3790892",
   "metadata": {},
   "source": [
    "## 2. Using the `pop()` Method"
   ]
  },
  {
   "cell_type": "code",
   "execution_count": null,
   "id": "1d7c3380",
   "metadata": {},
   "outputs": [],
   "source": [
    "# Reset our dictionary\n",
    "inventory = {\n",
    "    \"apples\": 50,\n",
    "    \"bananas\": 30,\n",
    "    \"oranges\": 25,\n",
    "    \"grapes\": 15\n",
    "}\n",
    "\n",
    "print(\"Initial inventory:\")\n",
    "print(inventory)"
   ]
  },
  {
   "cell_type": "code",
   "execution_count": null,
   "id": "2cfaa8bc",
   "metadata": {},
   "outputs": [],
   "source": [
    "# pop() removes and returns the value\n",
    "apple_count = inventory.pop(\"apples\")\n",
    "print(f\"Removed apples: {apple_count}\")\n",
    "print(\"Updated inventory:\")\n",
    "print(inventory)"
   ]
  },
  {
   "cell_type": "code",
   "execution_count": null,
   "id": "30a142d3",
   "metadata": {},
   "outputs": [],
   "source": [
    "# pop() with default value (safe removal)\n",
    "pear_count = inventory.pop(\"pears\", 0)  # Default to 0 if not found\n",
    "print(f\"Pear count (with default): {pear_count}\")\n",
    "\n",
    "# Compare with existing key\n",
    "banana_count = inventory.pop(\"bananas\", 0)\n",
    "print(f\"Banana count: {banana_count}\")\n",
    "\n",
    "print(\"Final inventory:\")\n",
    "print(inventory)"
   ]
  },
  {
   "cell_type": "code",
   "execution_count": null,
   "id": "0539b0c0",
   "metadata": {},
   "outputs": [],
   "source": [
    "# Demonstration of KeyError with pop() (no default)\n",
    "try:\n",
    "    missing_item = inventory.pop(\"strawberries\")\n",
    "except KeyError as e:\n",
    "    print(f\"KeyError with pop(): {e}\")\n",
    "    print(\"Use a default value to avoid this error!\")"
   ]
  },
  {
   "cell_type": "markdown",
   "id": "8f729e38",
   "metadata": {},
   "source": [
    "## 3. Using the `popitem()` Method"
   ]
  },
  {
   "cell_type": "code",
   "execution_count": null,
   "id": "58d661d4",
   "metadata": {},
   "outputs": [],
   "source": [
    "# Create a new dictionary for popitem() demonstration\n",
    "colors = {\n",
    "    \"red\": \"#FF0000\",\n",
    "    \"green\": \"#00FF00\",\n",
    "    \"blue\": \"#0000FF\",\n",
    "    \"yellow\": \"#FFFF00\",\n",
    "    \"purple\": \"#800080\"\n",
    "}\n",
    "\n",
    "print(\"Original colors dictionary:\")\n",
    "print(colors)\n",
    "print(f\"Length: {len(colors)}\")"
   ]
  },
  {
   "cell_type": "code",
   "execution_count": null,
   "id": "30624b8f",
   "metadata": {},
   "outputs": [],
   "source": [
    "# popitem() removes and returns the last inserted item (Python 3.7+)\n",
    "last_item = colors.popitem()\n",
    "print(f\"Removed item: {last_item}\")\n",
    "print(f\"Remaining colors: {colors}\")"
   ]
  },
  {
   "cell_type": "code",
   "execution_count": null,
   "id": "b1e8725c",
   "metadata": {},
   "outputs": [],
   "source": [
    "# Remove multiple items using popitem()\n",
    "print(\"Removing items one by one:\")\n",
    "while colors:\n",
    "    removed_item = colors.popitem()\n",
    "    print(f\"  Removed: {removed_item}\")\n",
    "    print(f\"  Remaining: {len(colors)} items\")\n",
    "\n",
    "print(f\"Final dictionary: {colors}\")"
   ]
  },
  {
   "cell_type": "code",
   "execution_count": null,
   "id": "58bb04b8",
   "metadata": {},
   "outputs": [],
   "source": [
    "# popitem() on empty dictionary raises KeyError\n",
    "empty_dict = {}\n",
    "\n",
    "try:\n",
    "    empty_dict.popitem()\n",
    "except KeyError as e:\n",
    "    print(\"KeyError: Cannot pop from empty dictionary\")\n",
    "    print(\"Always check if dictionary is not empty before using popitem()\")"
   ]
  },
  {
   "cell_type": "markdown",
   "id": "a48c9d36",
   "metadata": {},
   "source": [
    "## 4. Using the `clear()` Method"
   ]
  },
  {
   "cell_type": "code",
   "execution_count": null,
   "id": "af91a6d8",
   "metadata": {},
   "outputs": [],
   "source": [
    "# Create a dictionary to clear\n",
    "temp_data = {\n",
    "    \"session_id\": \"abc123\",\n",
    "    \"user_id\": 456,\n",
    "    \"last_activity\": \"2024-01-15\",\n",
    "    \"preferences\": {\"theme\": \"dark\", \"notifications\": True}\n",
    "}\n",
    "\n",
    "print(\"Before clear():\")\n",
    "print(temp_data)\n",
    "print(f\"Length: {len(temp_data)}\")\n",
    "print(f\"Boolean value: {bool(temp_data)}\")"
   ]
  },
  {
   "cell_type": "code",
   "execution_count": null,
   "id": "9659eca3",
   "metadata": {},
   "outputs": [],
   "source": [
    "# Clear all items\n",
    "temp_data.clear()\n",
    "\n",
    "print(\"After clear():\")\n",
    "print(temp_data)\n",
    "print(f\"Length: {len(temp_data)}\")\n",
    "print(f\"Boolean value: {bool(temp_data)}\")\n",
    "print(f\"Type: {type(temp_data)}\")"
   ]
  },
  {
   "cell_type": "markdown",
   "id": "169b89a3",
   "metadata": {},
   "source": [
    "## 5. Safe Removal Techniques"
   ]
  },
  {
   "cell_type": "code",
   "execution_count": null,
   "id": "936b807f",
   "metadata": {},
   "outputs": [],
   "source": [
    "# Function for safe key removal\n",
    "def safe_remove(dictionary, key):\n",
    "    \"\"\"Safely remove a key from dictionary, return True if removed, False if not found.\"\"\"\n",
    "    if key in dictionary:\n",
    "        del dictionary[key]\n",
    "        return True\n",
    "    return False\n",
    "\n",
    "# Test the function\n",
    "test_dict = {\"a\": 1, \"b\": 2, \"c\": 3}\n",
    "print(\"Original:\", test_dict)\n",
    "\n",
    "result1 = safe_remove(test_dict, \"b\")\n",
    "print(f\"Removed 'b': {result1}\")\n",
    "print(\"After removal:\", test_dict)\n",
    "\n",
    "result2 = safe_remove(test_dict, \"z\")\n",
    "print(f\"Removed 'z': {result2}\")\n",
    "print(\"Final:\", test_dict)"
   ]
  },
  {
   "cell_type": "code",
   "execution_count": null,
   "id": "c3216dc1",
   "metadata": {},
   "outputs": [],
   "source": [
    "# Alternative safe removal using pop() with default\n",
    "def safe_pop(dictionary, key, default=None):\n",
    "    \"\"\"Safely pop a key, returning the value or default.\"\"\"\n",
    "    return dictionary.pop(key, default)\n",
    "\n",
    "# Test safe pop\n",
    "sample_dict = {\"x\": 10, \"y\": 20, \"z\": 30}\n",
    "print(\"Original:\", sample_dict)\n",
    "\n",
    "value1 = safe_pop(sample_dict, \"y\")\n",
    "print(f\"Popped 'y': {value1}\")\n",
    "\n",
    "value2 = safe_pop(sample_dict, \"missing\", \"not found\")\n",
    "print(f\"Popped 'missing': {value2}\")\n",
    "\n",
    "print(\"Final dictionary:\", sample_dict)"
   ]
  },
  {
   "cell_type": "markdown",
   "id": "c8e72bf6",
   "metadata": {},
   "source": [
    "## 6. Conditional Removal"
   ]
  },
  {
   "cell_type": "code",
   "execution_count": null,
   "id": "393242f3",
   "metadata": {},
   "outputs": [],
   "source": [
    "# Remove items based on conditions\n",
    "grades = {\n",
    "    \"Alice\": 95,\n",
    "    \"Bob\": 67,\n",
    "    \"Charlie\": 89,\n",
    "    \"Diana\": 45,\n",
    "    \"Eve\": 92,\n",
    "    \"Frank\": 58\n",
    "}\n",
    "\n",
    "print(\"Original grades:\")\n",
    "for name, grade in grades.items():\n",
    "    print(f\"  {name}: {grade}\")"
   ]
  },
  {
   "cell_type": "code",
   "execution_count": null,
   "id": "c0418f00",
   "metadata": {},
   "outputs": [],
   "source": [
    "# Remove students with failing grades (< 70)\n",
    "# Note: Create list of keys first to avoid RuntimeError during iteration\n",
    "\n",
    "failing_students = [name for name, grade in grades.items() if grade < 70]\n",
    "print(f\"\\nStudents with failing grades: {failing_students}\")\n",
    "\n",
    "for student in failing_students:\n",
    "    removed_grade = grades.pop(student)\n",
    "    print(f\"Removed {student} (grade: {removed_grade})\")\n",
    "\n",
    "print(\"\\nRemaining students:\")\n",
    "for name, grade in grades.items():\n",
    "    print(f\"  {name}: {grade}\")"
   ]
  },
  {
   "cell_type": "code",
   "execution_count": null,
   "id": "41257d33",
   "metadata": {},
   "outputs": [],
   "source": [
    "# Alternative approach using dictionary comprehension (creates new dictionary)\n",
    "all_grades = {\n",
    "    \"Alice\": 95,\n",
    "    \"Bob\": 67,\n",
    "    \"Charlie\": 89,\n",
    "    \"Diana\": 45,\n",
    "    \"Eve\": 92,\n",
    "    \"Frank\": 58\n",
    "}\n",
    "\n",
    "# Keep only passing grades\n",
    "passing_grades = {name: grade for name, grade in all_grades.items() if grade >= 70}\n",
    "\n",
    "print(\"Original grades:\", len(all_grades))\n",
    "print(\"Passing grades:\", len(passing_grades))\n",
    "print(\"\\nPassing students:\")\n",
    "for name, grade in passing_grades.items():\n",
    "    print(f\"  {name}: {grade}\")"
   ]
  },
  {
   "cell_type": "markdown",
   "id": "68d223bf",
   "metadata": {},
   "source": [
    "## 7. Bulk Removal Operations"
   ]
  },
  {
   "cell_type": "code",
   "execution_count": null,
   "id": "c6a7b562",
   "metadata": {},
   "outputs": [],
   "source": [
    "# Remove multiple specific keys\n",
    "user_profile = {\n",
    "    \"username\": \"john_doe\",\n",
    "    \"email\": \"john@example.com\",\n",
    "    \"password_hash\": \"hashed_password\",\n",
    "    \"temp_token\": \"abc123\",\n",
    "    \"session_data\": {\"last_login\": \"2024-01-15\"},\n",
    "    \"preferences\": {\"theme\": \"dark\"},\n",
    "    \"debug_info\": \"internal_data\"\n",
    "}\n",
    "\n",
    "print(\"Original profile:\")\n",
    "for key, value in user_profile.items():\n",
    "    print(f\"  {key}: {value}\")"
   ]
  },
  {
   "cell_type": "code",
   "execution_count": null,
   "id": "4f744991",
   "metadata": {},
   "outputs": [],
   "source": [
    "# Remove temporary/sensitive data\n",
    "keys_to_remove = [\"password_hash\", \"temp_token\", \"session_data\", \"debug_info\"]\n",
    "\n",
    "removed_items = {}\n",
    "for key in keys_to_remove:\n",
    "    if key in user_profile:\n",
    "        removed_items[key] = user_profile.pop(key)\n",
    "\n",
    "print(\"\\nRemoved items:\")\n",
    "for key, value in removed_items.items():\n",
    "    print(f\"  {key}: {value}\")\n",
    "\n",
    "print(\"\\nCleaned profile:\")\n",
    "for key, value in user_profile.items():\n",
    "    print(f\"  {key}: {value}\")"
   ]
  },
  {
   "cell_type": "markdown",
   "id": "06304d8e",
   "metadata": {},
   "source": [
    "## 8. Performance Considerations"
   ]
  },
  {
   "cell_type": "code",
   "execution_count": null,
   "id": "d7692ae5",
   "metadata": {},
   "outputs": [],
   "source": [
    "import time\n",
    "\n",
    "# Create a large dictionary for performance testing\n",
    "large_dict = {f\"key_{i}\": i for i in range(100000)}\n",
    "print(f\"Created dictionary with {len(large_dict)} items\")\n",
    "\n",
    "# Test different removal methods\n",
    "test_dict = large_dict.copy()\n",
    "\n",
    "# Method 1: Using del\n",
    "start_time = time.time()\n",
    "for i in range(0, 10000, 100):\n",
    "    key = f\"key_{i}\"\n",
    "    if key in test_dict:\n",
    "        del test_dict[key]\n",
    "del_time = time.time() - start_time\n",
    "\n",
    "print(f\"\\nDeletion using 'del': {del_time:.4f} seconds\")\n",
    "print(f\"Remaining items: {len(test_dict)}\")"
   ]
  },
  {
   "cell_type": "code",
   "execution_count": null,
   "id": "7a2c5f23",
   "metadata": {},
   "outputs": [],
   "source": [
    "# Method 2: Using pop()\n",
    "test_dict2 = large_dict.copy()\n",
    "\n",
    "start_time = time.time()\n",
    "for i in range(10000, 20000, 100):\n",
    "    key = f\"key_{i}\"\n",
    "    test_dict2.pop(key, None)\n",
    "pop_time = time.time() - start_time\n",
    "\n",
    "print(f\"Deletion using 'pop()': {pop_time:.4f} seconds\")\n",
    "print(f\"Remaining items: {len(test_dict2)}\")\n",
    "\n",
    "# Summary\n",
    "print(f\"\\nPerformance comparison:\")\n",
    "print(f\"  del statement: {del_time:.4f} seconds\")\n",
    "print(f\"  pop() method:  {pop_time:.4f} seconds\")\n",
    "print(f\"  Winner: {'del' if del_time < pop_time else 'pop()'} is slightly faster\")"
   ]
  },
  {
   "cell_type": "markdown",
   "id": "c1b93b60",
   "metadata": {},
   "source": [
    "## 9. Practice Exercises"
   ]
  },
  {
   "cell_type": "code",
   "execution_count": null,
   "id": "8b685583",
   "metadata": {},
   "outputs": [],
   "source": [
    "# Exercise 1: Clean up a messy dictionary\n",
    "messy_data = {\n",
    "    \"valid_name\": \"John\",\n",
    "    \"valid_age\": 25,\n",
    "    \"empty_string\": \"\",\n",
    "    \"null_value\": None,\n",
    "    \"zero_value\": 0,\n",
    "    \"empty_list\": [],\n",
    "    \"valid_email\": \"john@example.com\",\n",
    "    \"empty_dict\": {},\n",
    "    \"false_value\": False\n",
    "}\n",
    "\n",
    "print(\"Original messy data:\")\n",
    "for key, value in messy_data.items():\n",
    "    print(f\"  {key}: {repr(value)}\")\n",
    "\n",
    "# TODO: Remove items with \"falsy\" values (empty strings, None, empty collections)\n",
    "# Keep 0 and False as they might be legitimate values\n",
    "\n",
    "# Your solution here:\n",
    "cleaned_data = messy_data.copy()\n",
    "\n",
    "# Remove None, empty strings, empty lists, empty dicts\n",
    "keys_to_remove = []\n",
    "for key, value in cleaned_data.items():\n",
    "    if value is None or value == \"\" or value == [] or value == {}:\n",
    "        keys_to_remove.append(key)\n",
    "\n",
    "for key in keys_to_remove:\n",
    "    del cleaned_data[key]\n",
    "\n",
    "print(\"\\nCleaned data:\")\n",
    "for key, value in cleaned_data.items():\n",
    "    print(f\"  {key}: {repr(value)}\")"
   ]
  },
  {
   "cell_type": "code",
   "execution_count": null,
   "id": "0a386253",
   "metadata": {},
   "outputs": [],
   "source": [
    "# Exercise 2: Implement a dictionary cache with size limit\n",
    "class LimitedCache:\n",
    "    def __init__(self, max_size=3):\n",
    "        self.max_size = max_size\n",
    "        self.cache = {}\n",
    "    \n",
    "    def get(self, key):\n",
    "        return self.cache.get(key)\n",
    "    \n",
    "    def put(self, key, value):\n",
    "        # If cache is full and key is new, remove oldest item\n",
    "        if len(self.cache) >= self.max_size and key not in self.cache:\n",
    "            # Remove the first (oldest) item\n",
    "            oldest_key = next(iter(self.cache))\n",
    "            removed = self.cache.pop(oldest_key)\n",
    "            print(f\"Cache full! Removed oldest: {oldest_key} = {removed}\")\n",
    "        \n",
    "        self.cache[key] = value\n",
    "        print(f\"Added: {key} = {value}\")\n",
    "    \n",
    "    def show_cache(self):\n",
    "        print(f\"Cache ({len(self.cache)}/{self.max_size}): {self.cache}\")\n",
    "\n",
    "# Test the cache\n",
    "cache = LimitedCache(max_size=3)\n",
    "\n",
    "cache.put(\"a\", 1)\n",
    "cache.show_cache()\n",
    "\n",
    "cache.put(\"b\", 2)\n",
    "cache.show_cache()\n",
    "\n",
    "cache.put(\"c\", 3)\n",
    "cache.show_cache()\n",
    "\n",
    "# This should remove 'a'\n",
    "cache.put(\"d\", 4)\n",
    "cache.show_cache()\n",
    "\n",
    "# This should remove 'b'\n",
    "cache.put(\"e\", 5)\n",
    "cache.show_cache()"
   ]
  },
  {
   "cell_type": "markdown",
   "id": "a71f0b69",
   "metadata": {},
   "source": [
    "## Summary\n",
    "\n",
    "### Key Methods for Removing Dictionary Items:\n",
    "\n",
    "1. **`del dict[key]`**: Direct removal, raises KeyError if key doesn't exist\n",
    "2. **`dict.pop(key)`**: Remove and return value, raises KeyError if key doesn't exist\n",
    "3. **`dict.pop(key, default)`**: Remove and return value, returns default if key doesn't exist\n",
    "4. **`dict.popitem()`**: Remove and return last item (LIFO), raises KeyError if dict is empty\n",
    "5. **`dict.clear()`**: Remove all items, leaves empty dictionary\n",
    "\n",
    "### Best Practices:\n",
    "\n",
    "- Use `pop()` with default for safe removal\n",
    "- Check key existence with `in` operator before using `del`\n",
    "- Collect keys to remove before iterating when doing conditional removal\n",
    "- Consider dictionary comprehension for creating filtered copies\n",
    "- Be careful with `popitem()` on empty dictionaries\n",
    "\n",
    "### Performance Notes:\n",
    "\n",
    "- `del` and `pop()` have similar performance for single operations\n",
    "- Dictionary comprehension creates new dictionary (uses more memory)\n",
    "- In-place removal is more memory efficient for large dictionaries"
   ]
  }
 ],
 "metadata": {
  "language_info": {
   "name": "python"
  }
 },
 "nbformat": 4,
 "nbformat_minor": 5
}
