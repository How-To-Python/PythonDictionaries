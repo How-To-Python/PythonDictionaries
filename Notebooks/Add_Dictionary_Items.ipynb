{
 "cells": [
  {
   "cell_type": "markdown",
   "id": "a6eb669f",
   "metadata": {},
   "source": [
    "# Adding Dictionary Items\n",
    "\n",
    "Learn different ways to add new key-value pairs to Python dictionaries.\n",
    "\n",
    "## Learning Objectives\n",
    "- Add single key-value pairs\n",
    "- Add multiple pairs at once\n",
    "- Use update() method\n",
    "- Merge dictionaries"
   ]
  },
  {
   "cell_type": "code",
   "execution_count": 1,
   "id": "08cff163",
   "metadata": {},
   "outputs": [
    {
     "name": "stdout",
     "output_type": "stream",
     "text": [
      "Original student: {'name': 'Alice', 'age': 20, 'major': 'Computer Science'}\n"
     ]
    }
   ],
   "source": [
    "# Starting dictionary\n",
    "student = {\n",
    "    \"name\": \"Alice\",\n",
    "    \"age\": 20,\n",
    "    \"major\": \"Computer Science\"\n",
    "}\n",
    "\n",
    "print(\"Original student:\", student)"
   ]
  },
  {
   "cell_type": "code",
   "execution_count": null,
   "id": "d87fa263",
   "metadata": {},
   "outputs": [],
   "source": [
    "# 1. Adding single items using [] notation\n",
    "student[\"gpa\"] = 3.85\n",
    "print(\"After adding GPA:\", student)\n",
    "\n",
    "student[\"courses\"] = [\"Python\", \"Data Structures\"]\n",
    "print(\"After adding courses:\", student)\n",
    "\n",
    "# Overwriting existing keys\n",
    "student[\"age\"] = 21  # Updates existing value\n",
    "print(\"After updating age:\", student)"
   ]
  },
  {
   "cell_type": "code",
   "execution_count": null,
   "id": "d2f870d8",
   "metadata": {},
   "outputs": [],
   "source": [
    "# 2. Using update() method with another dictionary\n",
    "additional_info = {\n",
    "    \"email\": \"alice@example.com\",\n",
    "    \"phone\": \"123-456-7890\",\n",
    "    \"semester\": \"Fall 2024\"\n",
    "}\n",
    "\n",
    "student.update(additional_info)\n",
    "print(\"After update with dict:\", student)"
   ]
  },
  {
   "cell_type": "code",
   "execution_count": null,
   "id": "3601c4b2",
   "metadata": {},
   "outputs": [],
   "source": [
    "# 3. Using update() with keyword arguments\n",
    "student.update(scholarship=True, honors=False, advisor=\"Dr. Smith\")\n",
    "print(\"After update with kwargs:\", student)"
   ]
  },
  {
   "cell_type": "code",
   "execution_count": null,
   "id": "2dc7feed",
   "metadata": {},
   "outputs": [],
   "source": [
    "# 4. Using update() with list of tuples\n",
    "extra_data = [(\"graduation_year\", 2026), (\"campus\", \"Main\"), (\"dorm\", \"Building A\")]\n",
    "student.update(extra_data)\n",
    "print(\"After update with tuples:\", student)"
   ]
  },
  {
   "cell_type": "code",
   "execution_count": null,
   "id": "c252dbc3",
   "metadata": {},
   "outputs": [],
   "source": [
    "# 5. Dictionary merging with ** operator (Python 3.5+)\n",
    "basic_info = {\"name\": \"Bob\", \"age\": 22}\n",
    "contact_info = {\"email\": \"bob@example.com\", \"city\": \"Boston\"}\n",
    "academic_info = {\"major\": \"Mathematics\", \"gpa\": 3.7}\n",
    "\n",
    "# Merge multiple dictionaries\n",
    "complete_profile = {**basic_info, **contact_info, **academic_info}\n",
    "print(\"Merged profile:\", complete_profile)\n",
    "\n",
    "# Add extra fields while merging\n",
    "enhanced_profile = {**complete_profile, \"status\": \"active\", \"year\": 2024}\n",
    "print(\"Enhanced profile:\", enhanced_profile)"
   ]
  },
  {
   "cell_type": "code",
   "execution_count": null,
   "id": "9ff49a3b",
   "metadata": {},
   "outputs": [],
   "source": [
    "# 6. setdefault() method - add only if key doesn't exist\n",
    "inventory = {\"apples\": 50, \"bananas\": 30}\n",
    "\n",
    "# Add new item\n",
    "inventory.setdefault(\"oranges\", 25)\n",
    "print(\"After setdefault (new key):\", inventory)\n",
    "\n",
    "# Try to add existing key - won't change value\n",
    "inventory.setdefault(\"apples\", 100)  # Won't change existing value\n",
    "print(\"After setdefault (existing key):\", inventory)\n",
    "\n",
    "# Useful for initializing lists\n",
    "grouped_data = {}\n",
    "items = [(\"fruit\", \"apple\"), (\"vegetable\", \"carrot\"), (\"fruit\", \"banana\")]\n",
    "\n",
    "for category, item in items:\n",
    "    grouped_data.setdefault(category, []).append(item)\n",
    "\n",
    "print(\"Grouped data:\", grouped_data)"
   ]
  },
  {
   "cell_type": "markdown",
   "id": "f1ebafbb",
   "metadata": {},
   "source": [
    "## Practice Exercises"
   ]
  },
  {
   "cell_type": "code",
   "execution_count": null,
   "id": "204e2e40",
   "metadata": {},
   "outputs": [],
   "source": [
    "# Exercise 1: Build a product catalog\n",
    "catalog = {}\n",
    "\n",
    "# Add products one by one\n",
    "catalog[\"laptop\"] = {\"price\": 999.99, \"category\": \"electronics\"}\n",
    "catalog[\"book\"] = {\"price\": 15.99, \"category\": \"education\"}\n",
    "\n",
    "# Add multiple products at once\n",
    "new_products = {\n",
    "    \"mouse\": {\"price\": 29.99, \"category\": \"electronics\"},\n",
    "    \"notebook\": {\"price\": 3.99, \"category\": \"office\"}\n",
    "}\n",
    "catalog.update(new_products)\n",
    "\n",
    "print(\"Product catalog:\", catalog)\n",
    "\n",
    "# Exercise 2: Create user preferences\n",
    "user_prefs = {\"theme\": \"dark\", \"language\": \"en\"}\n",
    "new_settings = {\"notifications\": True, \"auto_save\": False}\n",
    "default_settings = {\"font_size\": 12, \"theme\": \"light\"}  # theme will be overwritten\n",
    "\n",
    "# Merge all settings\n",
    "final_prefs = {**default_settings, **user_prefs, **new_settings}\n",
    "print(\"Final preferences:\", final_prefs)"
   ]
  }
 ],
 "metadata": {
  "kernelspec": {
   "display_name": "base",
   "language": "python",
   "name": "python3"
  },
  "language_info": {
   "codemirror_mode": {
    "name": "ipython",
    "version": 3
   },
   "file_extension": ".py",
   "mimetype": "text/x-python",
   "name": "python",
   "nbconvert_exporter": "python",
   "pygments_lexer": "ipython3",
   "version": "3.13.5"
  }
 },
 "nbformat": 4,
 "nbformat_minor": 5
}
