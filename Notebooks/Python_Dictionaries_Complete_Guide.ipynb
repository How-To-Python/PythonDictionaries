{
 "cells": [
  {
   "cell_type": "markdown",
   "id": "e95c297d",
   "metadata": {},
   "source": [
    "# 🐍 Python Dictionaries - Complete Interactive Guide\n",
    "\n",
    "Welcome to the comprehensive Python Dictionaries guide! This notebook provides hands-on examples and demonstrations to help you master Python dictionaries.\n",
    "\n",
    "## 📚 What You'll Learn\n",
    "\n",
    "- **Creating Dictionaries**: Different ways to create and initialize dictionaries\n",
    "- **Accessing Elements**: Key-based access and safe retrieval methods\n",
    "- **Adding Elements**: Adding new key-value pairs efficiently\n",
    "- **Removing Elements**: del, pop(), clear() methods\n",
    "- **Modifying Elements**: Update values and merge dictionaries\n",
    "- **Dictionary Methods**: Essential built-in methods and operations\n",
    "- **Iteration**: Various ways to loop through dictionaries\n",
    "- **Dictionary Comprehensions**: Powerful one-liner dictionary creation\n",
    "- **Nested Dictionaries**: Working with complex data structures\n",
    "- **Keys, Values, Items**: Working with dictionary views\n",
    "- **Sorting**: Organize dictionary data effectively\n",
    "- **Type Conversions**: Convert between dictionaries and other data types\n",
    "\n",
    "## 🎯 How to Use This Notebook\n",
    "\n",
    "1. **Run each cell** by pressing `Shift + Enter`\n",
    "2. **Experiment** with the code examples\n",
    "3. **Try variations** to deepen your understanding\n",
    "4. **Practice** with the exercises provided\n",
    "\n",
    "Let's get started! 🚀"
   ]
  },
  {
   "cell_type": "markdown",
   "id": "c1de5979",
   "metadata": {},
   "source": [
    "## 1. 📖 Creating Dictionaries\n",
    "\n",
    "Dictionaries are one of the most powerful data structures in Python. They store data as key-value pairs."
   ]
  },
  {
   "cell_type": "code",
   "execution_count": null,
   "id": "b655b829",
   "metadata": {},
   "outputs": [],
   "source": [
    "# 1.1 Creating Empty Dictionaries\n",
    "empty_dict = {}\n",
    "also_empty = dict()\n",
    "\n",
    "print(\"Empty dictionary using {}:\", empty_dict)\n",
    "print(\"Empty dictionary using dict():\", also_empty)\n",
    "print(\"Type:\", type(empty_dict))\n",
    "print(\"Length:\", len(empty_dict))"
   ]
  },
  {
   "cell_type": "code",
   "execution_count": null,
   "id": "f326c88b",
   "metadata": {},
   "outputs": [],
   "source": [
    "# 1.2 Creating Dictionaries with Initial Data\n",
    "student = {\n",
    "    \"name\": \"Alice\",\n",
    "    \"age\": 20,\n",
    "    \"major\": \"Computer Science\",\n",
    "    \"gpa\": 3.85\n",
    "}\n",
    "print(\"Student dictionary:\", student)\n",
    "\n",
    "# Different data types as values\n",
    "mixed_dict = {\n",
    "    \"string\": \"hello\",\n",
    "    \"number\": 42,\n",
    "    \"float\": 3.14,\n",
    "    \"boolean\": True,\n",
    "    \"list\": [1, 2, 3],\n",
    "    \"nested_dict\": {\"a\": 1, \"b\": 2}\n",
    "}\n",
    "print(\"\\nMixed data types:\", mixed_dict)\n",
    "\n",
    "# Keys can be different types (but must be immutable)\n",
    "mixed_keys = {\n",
    "    \"string_key\": \"value1\",\n",
    "    42: \"value2\",\n",
    "    (1, 2): \"tuple_key_value\",\n",
    "    True: \"boolean_key_value\"\n",
    "}\n",
    "print(\"\\nMixed key types:\", mixed_keys)"
   ]
  }
 ],
 "metadata": {
  "language_info": {
   "name": "python"
  }
 },
 "nbformat": 4,
 "nbformat_minor": 5
}
