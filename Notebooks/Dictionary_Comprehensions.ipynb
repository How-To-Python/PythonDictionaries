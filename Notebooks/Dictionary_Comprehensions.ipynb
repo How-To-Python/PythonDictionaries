{
 "cells": [
  {
   "cell_type": "markdown",
   "id": "11c71b6d",
   "metadata": {},
   "source": [
    "# Dictionary Comprehensions\n",
    "\n",
    "Master the art of creating dictionaries with powerful one-liner syntax.\n",
    "\n",
    "## Learning Objectives\n",
    "- Create dictionaries using comprehension syntax\n",
    "- Filter dictionaries with conditions\n",
    "- Transform key-value pairs\n",
    "- Work with nested comprehensions"
   ]
  },
  {
   "cell_type": "code",
   "execution_count": null,
   "id": "d30f9fd6",
   "metadata": {},
   "outputs": [],
   "source": [
    "# 1. Basic Dictionary Comprehensions\n",
    "# Syntax: {key_expr: value_expr for item in iterable}\n",
    "\n",
    "# Create squares dictionary\n",
    "squares = {x: x**2 for x in range(1, 6)}\n",
    "print(\"Squares:\", squares)\n",
    "\n",
    "# String lengths\n",
    "words = [\"apple\", \"banana\", \"cherry\", \"date\"]\n",
    "word_lengths = {word: len(word) for word in words}\n",
    "print(\"Word lengths:\", word_lengths)"
   ]
  },
  {
   "cell_type": "code",
   "execution_count": null,
   "id": "9fc3e90e",
   "metadata": {},
   "outputs": [],
   "source": [
    "# 2. Dictionary Comprehensions with Conditions\n",
    "# Syntax: {key_expr: value_expr for item in iterable if condition}\n",
    "\n",
    "# Even squares only\n",
    "even_squares = {x: x**2 for x in range(1, 11) if x % 2 == 0}\n",
    "print(\"Even squares:\", even_squares)\n",
    "\n",
    "# Long words only\n",
    "long_words = {word: len(word) for word in words if len(word) > 5}\n",
    "print(\"Long words:\", long_words)\n",
    "\n",
    "# Grade categories\n",
    "grades = {\"Alice\": 95, \"Bob\": 87, \"Charlie\": 92, \"David\": 78, \"Eve\": 98}\n",
    "high_performers = {name: grade for name, grade in grades.items() if grade >= 90}\n",
    "print(\"High performers:\", high_performers)"
   ]
  },
  {
   "cell_type": "code",
   "execution_count": null,
   "id": "6eef5572",
   "metadata": {},
   "outputs": [],
   "source": [
    "# 3. Transforming Existing Dictionaries\n",
    "original_prices = {\"laptop\": 1000, \"mouse\": 30, \"keyboard\": 80}\n",
    "\n",
    "# Apply discount\n",
    "discounted_prices = {item: price * 0.9 for item, price in original_prices.items()}\n",
    "print(\"Original:\", original_prices)\n",
    "print(\"Discounted:\", discounted_prices)\n",
    "\n",
    "# Convert to different currency (USD to EUR, approximate)\n",
    "eur_prices = {item: round(price * 0.85, 2) for item, price in original_prices.items()}\n",
    "print(\"EUR prices:\", eur_prices)"
   ]
  },
  {
   "cell_type": "code",
   "execution_count": null,
   "id": "e98eb237",
   "metadata": {},
   "outputs": [],
   "source": [
    "# 4. Conditional Expressions in Comprehensions\n",
    "# Syntax: {key: (value1 if condition else value2) for item in iterable}\n",
    "\n",
    "# Categorize numbers\n",
    "numbers = range(1, 11)\n",
    "number_types = {x: (\"even\" if x % 2 == 0 else \"odd\") for x in numbers}\n",
    "print(\"Number types:\", number_types)\n",
    "\n",
    "# Grade letters\n",
    "grade_letters = {\n",
    "    name: (\"A\" if grade >= 90 else \"B\" if grade >= 80 else \"C\" if grade >= 70 else \"F\")\n",
    "    for name, grade in grades.items()\n",
    "}\n",
    "print(\"Grade letters:\", grade_letters)"
   ]
  },
  {
   "cell_type": "code",
   "execution_count": null,
   "id": "8408fa54",
   "metadata": {},
   "outputs": [],
   "source": [
    "# 5. Working with Multiple Iterables\n",
    "fruits = [\"apple\", \"banana\", \"cherry\"]\n",
    "colors = [\"red\", \"yellow\", \"red\"]\n",
    "prices = [1.20, 0.50, 2.30]\n",
    "\n",
    "# Combine using zip\n",
    "fruit_info = {\n",
    "    fruit: {\"color\": color, \"price\": price}\n",
    "    for fruit, color, price in zip(fruits, colors, prices)\n",
    "}\n",
    "print(\"Fruit info:\", fruit_info)\n",
    "\n",
    "# Filter and combine\n",
    "expensive_fruits = {\n",
    "    fruit: price for fruit, price in zip(fruits, prices) if price > 1.0\n",
    "}\n",
    "print(\"Expensive fruits:\", expensive_fruits)"
   ]
  },
  {
   "cell_type": "code",
   "execution_count": null,
   "id": "db3f4836",
   "metadata": {},
   "outputs": [],
   "source": [
    "# 6. Nested Dictionary Comprehensions\n",
    "# Create a multiplication table\n",
    "multiplication_table = {\n",
    "    i: {j: i * j for j in range(1, 6)} \n",
    "    for i in range(1, 6)\n",
    "}\n",
    "\n",
    "print(\"Multiplication table:\")\n",
    "for i, row in multiplication_table.items():\n",
    "    print(f\"Row {i}: {row}\")"
   ]
  },
  {
   "cell_type": "markdown",
   "id": "ec10cb46",
   "metadata": {},
   "source": [
    "## Advanced Examples"
   ]
  },
  {
   "cell_type": "code",
   "execution_count": null,
   "id": "15ff62cf",
   "metadata": {},
   "outputs": [],
   "source": [
    "# 7. Real-world Examples\n",
    "\n",
    "# Word frequency counter\n",
    "text = \"the quick brown fox jumps over the lazy dog the fox is quick\"\n",
    "word_freq = {word: text.split().count(word) for word in set(text.split())}\n",
    "print(\"Word frequency:\", word_freq)\n",
    "\n",
    "# Student grades processing\n",
    "students_data = [\n",
    "    (\"Alice\", [95, 87, 92]),\n",
    "    (\"Bob\", [78, 85, 80]),\n",
    "    (\"Charlie\", [92, 88, 95])\n",
    "]\n",
    "\n",
    "student_averages = {\n",
    "    name: round(sum(grades) / len(grades), 2)\n",
    "    for name, grades in students_data\n",
    "}\n",
    "print(\"Student averages:\", student_averages)\n",
    "\n",
    "# Filter and transform inventory\n",
    "inventory = {\n",
    "    \"laptop\": {\"price\": 999, \"stock\": 5, \"category\": \"electronics\"},\n",
    "    \"book\": {\"price\": 15, \"stock\": 50, \"category\": \"education\"},\n",
    "    \"mouse\": {\"price\": 25, \"stock\": 20, \"category\": \"electronics\"}\n",
    "}\n",
    "\n",
    "electronics = {\n",
    "    item: details[\"price\"] \n",
    "    for item, details in inventory.items() \n",
    "    if details[\"category\"] == \"electronics\" and details[\"stock\"] > 0\n",
    "}\n",
    "print(\"Electronics in stock:\", electronics)"
   ]
  },
  {
   "cell_type": "markdown",
   "id": "a032a4b9",
   "metadata": {},
   "source": [
    "## Practice Exercises"
   ]
  },
  {
   "cell_type": "code",
   "execution_count": null,
   "id": "456b1403",
   "metadata": {},
   "outputs": [],
   "source": [
    "# Exercise 1: Create a dictionary of cubes for numbers 1-10, but only for odd numbers\n",
    "odd_cubes = {x: x**3 for x in range(1, 11) if x % 2 == 1}\n",
    "print(\"Odd cubes:\", odd_cubes)\n",
    "\n",
    "# Exercise 2: Convert temperature data from Celsius to Fahrenheit\n",
    "celsius_temps = {\"Monday\": 20, \"Tuesday\": 25, \"Wednesday\": 18, \"Thursday\": 22}\n",
    "fahrenheit_temps = {day: (temp * 9/5) + 32 for day, temp in celsius_temps.items()}\n",
    "print(\"Fahrenheit temperatures:\", fahrenheit_temps)\n",
    "\n",
    "# Exercise 3: Create a dictionary of character frequencies in a string\n",
    "sentence = \"hello world\"\n",
    "char_freq = {char: sentence.count(char) for char in set(sentence) if char != ' '}\n",
    "print(\"Character frequencies:\", char_freq)"
   ]
  }
 ],
 "metadata": {
  "kernelspec": {
   "display_name": "Python 3 (ipykernel)",
   "language": "python",
   "name": "python3"
  },
  "language_info": {
   "codemirror_mode": {
    "name": "ipython",
    "version": 3
   },
   "file_extension": ".py",
   "mimetype": "text/x-python",
   "name": "python",
   "nbconvert_exporter": "python",
   "pygments_lexer": "ipython3",
   "version": "3.13.5"
  }
 },
 "nbformat": 4,
 "nbformat_minor": 5
}
