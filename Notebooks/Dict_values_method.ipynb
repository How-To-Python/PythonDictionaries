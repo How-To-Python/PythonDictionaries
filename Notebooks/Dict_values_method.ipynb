{
 "cells": [
  {
   "cell_type": "markdown",
   "id": "c0b8a8de",
   "metadata": {},
   "source": [
    "# `.values()` method\n",
    "**Used to get the keys of the dictionary**\n",
    "1. [Iterating over keys (default behavior)](#1-iterating-over-keys-default-behavior)\n",
    "2. [Explicit iteration  using `keys()` method](#2-explicit-keys--method-iteration)\n",
    "\n",
    "### Best Practices:\n",
    "**Use `.keys()` for set operations or when checking multiple keys**"
   ]
  },
  {
   "cell_type": "code",
   "execution_count": 1,
   "id": "c38c5a74",
   "metadata": {},
   "outputs": [
    {
     "name": "stdout",
     "output_type": "stream",
     "text": [
      "Sample dictionary: {'James': 95, 'Bill': 87, 'Zara': 92, 'Yolanda': 88, 'Eric': 91}\n",
      "Number of students: 5\n",
      "dict_values([95, 87, 92, 88, 91])\n",
      "Values: [95, 87, 92, 88, 91]\n"
     ]
    }
   ],
   "source": [
    "# Sample dictionary for demonstrations\n",
    "student_grades = {\n",
    "    \"James\": 95,\n",
    "    \"Bill\": 87,\n",
    "    \"Zara\": 92,\n",
    "    \"Yolanda\": 88,\n",
    "    \"Eric\": 91\n",
    "}\n",
    "\n",
    "print(f\"Sample dictionary: {student_grades}\")\n",
    "print(f\"Number of students: {len(student_grades)}\")\n",
    "\n",
    "# Getting all values: `.values()`\n",
    "print(student_grades.values())# returns a view object, which is iterable: dict_values([])\n",
    "print(\"Values:\", list(student_grades.values()))# Converting to a list"
   ]
  },
  {
   "cell_type": "markdown",
   "id": "e68991a2",
   "metadata": {},
   "source": [
    "### 1. Iterating over values\n",
    "- iterating over a dictionary values"
   ]
  },
  {
   "cell_type": "code",
   "execution_count": null,
   "id": "67ed941e",
   "metadata": {},
   "outputs": [
    {
     "name": "stdout",
     "output_type": "stream",
     "text": [
      "Iterating over values:\n",
      "Grade: 95\n",
      "Grade: 87\n",
      "Grade: 92\n",
      "Grade: 88\n",
      "Grade: 91\n"
     ]
    }
   ],
   "source": [
    "# 1. Iterating over values\n",
    "print(\"Iterating over values:\")\n",
    "for grade in student_grades.values():\n",
    "    print(f\"Grade: {grade}\")\n"
   ]
  }
 ],
 "metadata": {
  "kernelspec": {
   "display_name": "base",
   "language": "python",
   "name": "python3"
  },
  "language_info": {
   "codemirror_mode": {
    "name": "ipython",
    "version": 3
   },
   "file_extension": ".py",
   "mimetype": "text/x-python",
   "name": "python",
   "nbconvert_exporter": "python",
   "pygments_lexer": "ipython3",
   "version": "3.13.5"
  }
 },
 "nbformat": 4,
 "nbformat_minor": 5
}
