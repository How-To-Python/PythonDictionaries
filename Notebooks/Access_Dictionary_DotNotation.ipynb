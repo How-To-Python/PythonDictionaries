{
 "cells": [
  {
   "cell_type": "markdown",
   "id": "be7d9af9-997d-4c44-8bbd-838799271f79",
   "metadata": {},
   "source": [
    "# Access values using keys: Dot Notation `dict.key`\n",
    "**Standard Python dictionaries do not inherently support accessing items using dot notation. But there are several ways to achieve dot notation access for dictionary-like objects in Python**\n",
    "- when using dot notation, the keys in your dictionary must be valid Python identifiers (e.g., no spaces or special characters)\n",
    "- if your dictionary keys do not meet this requirement, you will still need to use the standard square bracket notation for those specific keys"
   ]
  },
  {
   "cell_type": "code",
   "execution_count": null,
   "id": "ee5310c7-176f-4ac5-ae1d-592b7d86868b",
   "metadata": {},
   "outputs": [],
   "source": [
    "person = {\"name\": \"Shannon\", \"age\": 33}\n",
    "# Python dictionaries don't inherently support dot notation\n",
    "print(person.name) # AttributeError: 'dict' object has no attribute 'name'"
   ]
  },
  {
   "cell_type": "markdown",
   "id": "06be9587-6bee-4a5b-8063-f0fcf3897a53",
   "metadata": {},
   "source": [
    "## You can\n",
    "- create your own custom class\n",
    "- use `types.SimpleNamespace`\n",
    "- use `collections.namedtuple`\n",
    "- use third-Party libraries like python-box provide enhanced dictionary objects that offer recursive dot notation access, among other features"
   ]
  },
  {
   "cell_type": "markdown",
   "id": "b52590da-b6d2-4cf5-9ca1-67371b4e519b",
   "metadata": {},
   "source": [
    "#### `types.SimpleNamespace`\n",
    "- built-in class from the `types` module allows you to create an object where attributes can be accessed using dot notation\n",
    "- converts a dictionary to a `SimpleNamespace` object"
   ]
  },
  {
   "cell_type": "code",
   "execution_count": null,
   "id": "9a31abc8-3db4-4f7a-b8a0-ee18cadde5e2",
   "metadata": {},
   "outputs": [],
   "source": [
    "from types import SimpleNamespace\n",
    "\n",
    "person = {'name': 'Shannon', 'age': 33}\n",
    "person_obj = SimpleNamespace(**person)\n",
    "print(person_obj.name)  # Output: Shannon"
   ]
  },
  {
   "cell_type": "markdown",
   "id": "1efa3de5-7ec9-4065-a091-238fcdbbfb32",
   "metadata": {},
   "source": [
    "#### `collections.namedtuple`\n",
    "- for immutable, dictionary-like objects with dot notation access, namedtuple is a good option"
   ]
  },
  {
   "cell_type": "code",
   "execution_count": null,
   "id": "c5153373-566c-42d9-9370-e7a3172d7d21",
   "metadata": {},
   "outputs": [],
   "source": [
    "from collections import namedtuple\n",
    "Person = namedtuple('Person', ['name', 'age'])\n",
    "person = Person(name = \"James\", age = 29)\n",
    "print(person.name)  # Output: James"
   ]
  },
  {
   "cell_type": "markdown",
   "id": "37053e89-ddfc-498c-961c-d2e7a6448877",
   "metadata": {},
   "source": [
    "#### Custom Class\n",
    "- create your own class that inherits from dict and overrides the `__getattr__` and `__setattr__` methods to enable dot notation access"
   ]
  },
  {
   "cell_type": "code",
   "execution_count": null,
   "id": "f3abebf0-8c3c-466b-adc9-8dd3bfb968f2",
   "metadata": {},
   "outputs": [],
   "source": [
    "class MyCustomDict(dict):\n",
    "    def __getattr__(self, key):\n",
    "        try:\n",
    "            return self[key]\n",
    "        except KeyError:\n",
    "            raise AttributeError(f\"'{type(self).__name__}' object has no attribute '{key}'\")\n",
    "\n",
    "    def __setattr__(self, key, value):\n",
    "            self[key] = value\n",
    "\n",
    "my_dot_dict = MyCustomDict({'name': 'Lisa'})\n",
    "print(my_dot_dict.name)  # Output: Lisa\n",
    "my_dot_dict.age = 39\n",
    "print(my_dot_dict[\"age\"]) # Output: 39"
   ]
  }
 ],
 "metadata": {
  "kernelspec": {
   "display_name": "Python 3 (ipykernel)",
   "language": "python",
   "name": "python3"
  },
  "language_info": {
   "codemirror_mode": {
    "name": "ipython",
    "version": 3
   },
   "file_extension": ".py",
   "mimetype": "text/x-python",
   "name": "python",
   "nbconvert_exporter": "python",
   "pygments_lexer": "ipython3",
   "version": "3.13.5"
  }
 },
 "nbformat": 4,
 "nbformat_minor": 5
}
